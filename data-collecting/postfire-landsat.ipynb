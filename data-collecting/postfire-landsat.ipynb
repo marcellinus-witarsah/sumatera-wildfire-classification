{
 "cells": [
  {
   "cell_type": "markdown",
   "metadata": {},
   "source": [
    "# Gathering Data for Postfire Landsat"
   ]
  },
  {
   "cell_type": "code",
   "execution_count": 1,
   "metadata": {},
   "outputs": [],
   "source": [
    "#import necessary libraries\n",
    "import os\n",
    "import pandas as pd\n",
    "import numpy as np\n",
    "import seaborn as sns\n",
    "import matplotlib.pyplot as plt\n",
    "import datetime\n",
    "import urllib"
   ]
  },
  {
   "cell_type": "markdown",
   "metadata": {},
   "source": [
    "## 1. Display Data about All Wildfire Incidents in Indonesia\n",
    "Gather information for all wildfire events in Sumatra"
   ]
  },
  {
   "cell_type": "code",
   "execution_count": 3,
   "metadata": {},
   "outputs": [],
   "source": [
    "pd.set_option('display.max_columns', None)\n",
    "pd.set_option('display.max_rows', 100)\n",
    "\n",
    "wf_data  = pd.read_csv(\"../data-total.csv\")\n",
    "# rename columns\n",
    "wf_data.rename(\n",
    "    columns={\n",
    "        'Lat': 'lat', \n",
    "        'Long': 'long', \n",
    "        'Satellite': 'satellite', \n",
    "        'Time_UTC': 'time_utc', \n",
    "        'Date': 'date', \n",
    "        'Source': 'source', \n",
    "        'PROVINSI': 'provinsi',\n",
    "        'KAB_KOTA': 'kab_kota',\n",
    "        }, \n",
    "    inplace=True\n",
    "    )\n",
    "\n",
    "wf_data.date = pd.to_datetime(wf_data.date, format=\"%Y%m%d\")\n",
    "wf_data.date = wf_data.date.astype('string')"
   ]
  },
  {
   "cell_type": "code",
   "execution_count": 1,
   "metadata": {},
   "outputs": [],
   "source": [
    "# All provinces in sumatera\n",
    "sumatera_provinces = [\n",
    "    'SUMATERA UTARA',\n",
    "    'JAMBI',\n",
    "    'RIAU',\n",
    "    'SUMATERA BARAT',\n",
    "    'SUMATERA SELATAN',\n",
    "    'BENGKULU',\n",
    "    'LAMPUNG',\n",
    "    'ACEH',\n",
    "    ]\n",
    "# create filter so that only events in sumatera will be returned.\n",
    "sumatera_filter = wf_data['provinsi'].apply(lambda x: x in sumatera_provinces) \n",
    "sumatera_only = wf_data.loc[sumatera_filter]\n",
    "\n",
    "display(sumatera_only.info())\n",
    "display(sumatera_only.provinsi.unique())\n",
    "display(sumatera_only.head())"
   ]
  },
  {
   "cell_type": "code",
   "execution_count": 2,
   "metadata": {},
   "outputs": [],
   "source": [
    "sumatera_only = sumatera_only.sort_values(by=['date'], \n",
    "                                          ascending=True,\n",
    "                                          ignore_index=True)\n",
    "sumatera_only"
   ]
  },
  {
   "cell_type": "markdown",
   "metadata": {},
   "source": [
    "## 2. Download Satellite Image using Earth Engine API\n",
    "Import earth engine API which is called ee"
   ]
  },
  {
   "cell_type": "code",
   "execution_count": 12,
   "metadata": {},
   "outputs": [],
   "source": [
    "import ee\n",
    "import folium\n",
    "from folium import plugins"
   ]
  },
  {
   "cell_type": "code",
   "execution_count": 18,
   "metadata": {},
   "outputs": [],
   "source": [
    "import collections\n",
    "collections.Callable = collections.abc.Callable"
   ]
  },
  {
   "cell_type": "code",
   "execution_count": 3,
   "metadata": {},
   "outputs": [],
   "source": [
    "# Authenticate earth engine servers\n",
    "ee.Authenticate()\n",
    "\n",
    "#initialize API\n",
    "ee.Initialize()"
   ]
  },
  {
   "cell_type": "markdown",
   "metadata": {},
   "source": [
    "## 3. Define Functions for Downloading Satellite Image "
   ]
  },
  {
   "cell_type": "code",
   "execution_count": 4,
   "metadata": {},
   "outputs": [],
   "source": [
    "def cloudMask(image):\n",
    "    \"\"\"\n",
    "    :param image: satellite image\n",
    "    :return: cloud-masked satellite image\n",
    "    \"\"\"\n",
    "    scored = ee.Algorithms.Landsat.simpleCloudScore(image)\n",
    "    return image.updateMask(scored.select(['cloud']).lt(20))\\\n",
    "                .addBands(image.metadata('system:time_start'))\n",
    "\n",
    "\n",
    "def download_landsat_satellite_image(\n",
    "        satellite_name, situation, \n",
    "        dataset, scale, file_format, \n",
    "        folder_path):\n",
    "    \"\"\"\n",
    "    :param satellite_name: the satellite image name\n",
    "    :param situation: condition of the wildfire, \"prefire\" or \"postfire\"\n",
    "    :param dataset: dataset of the wildfire events \n",
    "    :param scale: scale for the satellite bands\n",
    "    :param file_format: file format of the file being downloaded\n",
    "    :param folder_path: location for the downloaded satellite image band files\n",
    "    :return: None (just download the file into the specified folder_path)\n",
    "    \"\"\"\n",
    "    \n",
    "    for row in range(len(dataset)):\n",
    "        file_path = os.path.join(folder_path, str(row))\n",
    "        if os.path.exists(file_path):\n",
    "            print(\"data already exist\")\n",
    "        else:\n",
    "            os.mkdir(file_path)\n",
    "        \n",
    "        os.chdir(file_path)\n",
    "        print(os.getcwd())\n",
    "        # Set coordinates\n",
    "        print(f\"row {row} requesting...\")\n",
    "        coordinates = [float(dataset.lat.values[row]), float(dataset.long.values[row])]\n",
    "        region = ee.Geometry.Rectangle([coordinates[1]-0.2, coordinates[0]-0.2, \n",
    "                                        coordinates[1]+0.2, coordinates[0]+0.2]);\n",
    "\n",
    "\n",
    "        # filter image collection\n",
    "        # set base date\n",
    "        base_date = ee.Date(dataset.date.values[row])\n",
    "\n",
    "        # set geometry point\n",
    "        point = ee.Geometry.Point(dataset.long.values[row], dataset.lat.values[row])\n",
    "\n",
    "        # pre fire\n",
    "        prefire_date_start = ee.Date(base_date.advance(-365, 'day'))\n",
    "        prefire_date_end = ee.Date(base_date.advance(-1, 'day'))\n",
    "\n",
    "        # landsat image pre wildfire event\n",
    "        prefire_collection = ee.ImageCollection(satellite_name)\\\n",
    "                                   .filterDate(prefire_date_start, prefire_date_end)\\\n",
    "                                   .filterBounds(region)\\\n",
    "                                   .map(cloudMask)\\\n",
    "                                   .median()\n",
    "\n",
    "        # Calculate NBR for pre fire\n",
    "        pre_nbr = prefire_collection.normalizedDifference(['B5', 'B7'])\n",
    "\n",
    "\n",
    "        # post fire\n",
    "        postfire_date_start = ee.Date(base_date.advance(1, 'day'))\n",
    "        postfire_date_end = ee.Date(base_date.advance(365, 'day'))\n",
    "\n",
    "        # sentinel image post wildfire event\n",
    "        postfire_collection = ee.ImageCollection(satellite_name)\\\n",
    "                                   .filterDate(postfire_date_start, postfire_date_end)\\\n",
    "                                   .filterBounds(region)\\\n",
    "                                   .map(cloudMask)\\\n",
    "                                   .median()\n",
    "\n",
    "        # Calculate NBR for post fire\n",
    "        post_nbr = postfire_collection.normalizedDifference(['B5', 'B7'])\n",
    "\n",
    "        # calculate delta NBR\n",
    "        delta_nbr = pre_nbr.subtract(post_nbr).rename('DELTA_NBR')\n",
    "        postfire_collection = postfire_collection.addBands(delta_nbr)\n",
    "        \n",
    "        if situation == 'prefire':\n",
    "            filenames= ['b7_b5','b4_b3','b2']\n",
    "            bands =  [\n",
    "                ['B7', 'B5'], \n",
    "                ['B4', 'B3'], \n",
    "                ['B2'],\n",
    "                ]\n",
    "            \n",
    "            for i in range(len(filenames)):\n",
    "                if filenames[i] not in os.listdir():\n",
    "                    download_url = prefire_collection.getDownloadURL({\n",
    "                        'region': region,\n",
    "                        'bands' : bands[i],\n",
    "                        'scale' : scale,\n",
    "                        'format': file_format\n",
    "                    })\n",
    "                    \n",
    "                    print(f\"download data from {download_url}\")\n",
    "                    urllib.request.urlretrieve(download_url, filenames[i])\n",
    "                    print(f\"{download_url} downloaded\")\n",
    "                \n",
    "                else:\n",
    "                    print(f\"{bands[i]} already exist\")\n",
    "                    \n",
    "        else:\n",
    "            filenames= ['dnbr_b7','b5_b4','b3_b2']\n",
    "            bands =  [\n",
    "                ['DELTA_NBR', 'B7'], \n",
    "                ['B5', 'B4'], \n",
    "                ['B3', 'B2'],\n",
    "                ]\n",
    "\n",
    "            for i in range(len(filenames)):\n",
    "                if filenames[i] not in os.listdir():\n",
    "                    download_url = postfire_collection.getDownloadURL({\n",
    "                        'region': region,\n",
    "                        'bands' : bands[i],\n",
    "                        'scale' : scale,\n",
    "                        'format': file_format\n",
    "                    })\n",
    "\n",
    "                    print(f\"download data from {download_url}\")\n",
    "                    urllib.request.urlretrieve(download_url, filenames[i])\n",
    "                    print(f\"{download_url} downloaded\")\n",
    "                else:\n",
    "                    print(f\"{bands[i]} already exist\")"
   ]
  },
  {
   "cell_type": "markdown",
   "metadata": {},
   "source": [
    "## 4. Create Folder to Store Satellite Image"
   ]
  },
  {
   "cell_type": "code",
   "execution_count": 5,
   "metadata": {},
   "outputs": [],
   "source": [
    "D_DIR = \"D:\\\\\"\n",
    "\n",
    "WILDFIRE_SUMATERA_DATASET_DIR = \"wildfire-sumatera-dataset\"\n",
    "WILDFIRE_SUMATERA_GEOTIFF_DIR = \"wildfire-sumatera-geotiff\"\n",
    "\n",
    "LANDSAT_DIR = \"landsat-8\"\n",
    "\n",
    "LANDSAT_8_FOLDER = f\"{D_DIR}\\\\{WILDFIRE_SUMATERA_DATASET_DIR}\\\\{WILDFIRE_SUMATERA_GEOTIFF_DIR}\\\\{LANDSAT_DIR}\"\n",
    "LANDSAT_PREFIRE_FOLDER = f\"{D_DIR}\\\\{WILDFIRE_SUMATERA_DATASET_DIR}\\\\{WILDFIRE_SUMATERA_GEOTIFF_DIR}\\\\{LANDSAT_DIR}\\\\prefire\"\n",
    "LANDSAT_POSTFIRE_FOLDER = f\"{D_DIR}\\\\{WILDFIRE_SUMATERA_DATASET_DIR}\\\\{WILDFIRE_SUMATERA_GEOTIFF_DIR}\\\\{LANDSAT_DIR}\\\\postfire\"\n",
    "\n",
    "if D_DIR is not os.getcwd():\n",
    "    os.chdir(D_DIR)\n",
    "    print(f\"OS directory is changed to {D_DIR}\")\n",
    "    print(os.getcwd())\n",
    "    print()\n",
    "    \n",
    "if WILDFIRE_SUMATERA_DATASET_DIR not in os.listdir():\n",
    "    os.mkdir(WILDFIRE_SUMATERA_DATASET_DIR)\n",
    "    print(f\"{WILDFIRE_SUMATERA_DATASET_DIR} has been created\")\n",
    "else:\n",
    "    print(f\"{WILDFIRE_SUMATERA_DATASET_DIR} already exist\")\n"
   ]
  },
  {
   "cell_type": "code",
   "execution_count": 6,
   "metadata": {},
   "outputs": [],
   "source": [
    "# check whether the folder is exists\n",
    "if not os.path.exists(LANDSAT_PREFIRE_FOLDER):\n",
    "    os.makedirs(LANDSAT_PREFIRE_FOLDER)\n",
    "    print(f\"{LANDSAT_PREFIRE_FOLDER} has been successfully create\")\n",
    "else:\n",
    "    print(f\"{LANDSAT_PREFIRE_FOLDER} already exist\")\n",
    "\n",
    "if not os.path.exists(LANDSAT_POSTFIRE_FOLDER):\n",
    "    os.makedirs(LANDSAT_POSTFIRE_FOLDER)\n",
    "    print(f\"{LANDSAT_POSTFIRE_FOLDER} has been successfully create\")\n",
    "else:\n",
    "    print(f\"{LANDSAT_PREFIRE_FOLDER} already exist\")"
   ]
  },
  {
   "cell_type": "markdown",
   "metadata": {},
   "source": [
    "## 5. Download the Satellite Image"
   ]
  },
  {
   "cell_type": "code",
   "execution_count": 7,
   "metadata": {
    "scrolled": true
   },
   "outputs": [],
   "source": [
    "download_landsat_satellite_image(\n",
    "    satellite_name='LANDSAT/LC08/C02/T1_TOA', \n",
    "    situation='postfire',                                                                     \n",
    "    dataset=sumatera_only, \n",
    "    scale=50, \n",
    "    file_format='GeoTIFF',\n",
    "    folder_path=LANDSAT_POSTFIRE_FOLDER,\n",
    "    )\n",
    "\n",
    "print(\"done\")"
   ]
  }
 ],
 "metadata": {
  "kernelspec": {
   "display_name": "sumatera wildfire (pipenv)",
   "language": "python",
   "name": "sumatera-wildfire-classification"
  },
  "language_info": {
   "codemirror_mode": {
    "name": "ipython",
    "version": 3
   },
   "file_extension": ".py",
   "mimetype": "text/x-python",
   "name": "python",
   "nbconvert_exporter": "python",
   "pygments_lexer": "ipython3",
   "version": "3.8.0"
  }
 },
 "nbformat": 4,
 "nbformat_minor": 4
}
