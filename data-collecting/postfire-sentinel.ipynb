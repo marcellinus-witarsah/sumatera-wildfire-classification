{
 "cells": [
  {
   "cell_type": "markdown",
   "metadata": {},
   "source": [
    "# Gathering Data for Postfire Sentinel"
   ]
  },
  {
   "cell_type": "code",
   "execution_count": 1,
   "metadata": {},
   "outputs": [],
   "source": [
    "#import necessary libraries\n",
    "import os\n",
    "import pandas as pd\n",
    "import numpy as np\n",
    "import seaborn as sns\n",
    "import matplotlib.pyplot as plt\n",
    "import datetime\n",
    "import urllib"
   ]
  },
  {
   "cell_type": "markdown",
   "metadata": {},
   "source": [
    "## 1. Display Data about All Wildfire Incidents in Indonesia\n",
    "Gather information for all wildfire events in Sumatra"
   ]
  },
  {
   "cell_type": "code",
   "execution_count": 2,
   "metadata": {},
   "outputs": [],
   "source": [
    "pd.set_option('display.max_columns', None)\n",
    "pd.set_option('display.max_rows', 100)\n",
    "\n",
    "wf_data  = pd.read_csv(\"../data-total.csv\")\n",
    "wf_data.columns\n",
    "# rename columns\n",
    "wf_data.rename(\n",
    "    columns={\n",
    "        'Lat': 'lat', \n",
    "        'Long': 'long', \n",
    "        'Satellite': 'satellite', \n",
    "        'Time_UTC': 'time_utc', \n",
    "        'Date': 'date', \n",
    "        'Source': 'source', \n",
    "        'PROVINSI': 'provinsi',\n",
    "        'KAB_KOTA': 'kab_kota'\n",
    "        }, \n",
    "    inplace=True,\n",
    "    )\n",
    "\n",
    "# adding '-' to date column values\n",
    "wf_data.date = pd.to_datetime(wf_data.date, format=\"%Y%m%d\")\n",
    "wf_data.date = wf_data.date.astype('string')"
   ]
  },
  {
   "cell_type": "code",
   "execution_count": 3,
   "metadata": {},
   "outputs": [],
   "source": [
    "# All provinces in sumatera\n",
    "sumatera_provinces = [\n",
    "    'SUMATERA UTARA',\n",
    "    'JAMBI',\n",
    "    'RIAU',\n",
    "    'SUMATERA BARAT',\n",
    "    'SUMATERA SELATAN',\n",
    "    'BENGKULU',\n",
    "    'LAMPUNG',\n",
    "    'ACEH'\n",
    "]\n",
    "# create filter so that only events in sumatera will be returned.\n",
    "sumatera_filter = wf_data['provinsi'].apply(lambda x: x in sumatera_provinces) \n",
    "sumatera_only = wf_data.loc[sumatera_filter]"
   ]
  },
  {
   "cell_type": "code",
   "execution_count": 1,
   "metadata": {
    "scrolled": false
   },
   "outputs": [],
   "source": [
    "display(sumatera_only.info())\n",
    "display(sumatera_only.provinsi.unique())\n",
    "display(sumatera_only.head())"
   ]
  },
  {
   "cell_type": "code",
   "execution_count": 2,
   "metadata": {},
   "outputs": [],
   "source": [
    "sumatera_only = sumatera_only.sort_values(by=['date'], \n",
    "                                          ascending=True,\n",
    "                                          ignore_index=True)\n",
    "sumatera_only"
   ]
  },
  {
   "cell_type": "markdown",
   "metadata": {},
   "source": [
    "## 2. Download Satellite Image using Earth Engine API\n",
    "Import earth engine API which is called ee"
   ]
  },
  {
   "cell_type": "code",
   "execution_count": 6,
   "metadata": {},
   "outputs": [],
   "source": [
    "import ee\n",
    "import folium\n",
    "from folium import plugins"
   ]
  },
  {
   "cell_type": "code",
   "execution_count": 7,
   "metadata": {},
   "outputs": [],
   "source": [
    "import collections\n",
    "collections.Callable = collections.abc.Callable"
   ]
  },
  {
   "cell_type": "code",
   "execution_count": 3,
   "metadata": {},
   "outputs": [],
   "source": [
    "# Authenticate earth engine servers\n",
    "ee.Authenticate()\n",
    "\n",
    "#initialize API\n",
    "ee.Initialize()"
   ]
  },
  {
   "cell_type": "markdown",
   "metadata": {},
   "source": [
    "## 3. Define Functions for Downloading Satellite Image "
   ]
  },
  {
   "cell_type": "code",
   "execution_count": 15,
   "metadata": {},
   "outputs": [],
   "source": [
    "# sentinel 2 cloud masking \n",
    "def s2CloudMasking(image):\n",
    "    \"\"\"\n",
    "    :param image: satellite image\n",
    "    :return: cloud-masked satellite image\n",
    "    \"\"\"\n",
    "    qa = image.select('QA60')\n",
    "    # Bits 10 and 11 are clouds and cirrus, respectively.\n",
    "    cloudBitMask = 1 << 10\n",
    "    cirrusBitMask = 1 << 11\n",
    "    \n",
    "    #Both flags should be set to zero, indicating clear conditions.\n",
    "    mask = qa.bitwiseAnd(cloudBitMask).eq(0)\\\n",
    "             .And(qa.bitwiseAnd(cirrusBitMask).eq(0))\n",
    "\n",
    "    return image.updateMask(mask)\\\n",
    "                .divide(10000)\\\n",
    "\n",
    "def download_sentinel_satellite_image(\n",
    "        satellite_name, situation, \n",
    "        dataset, scale, file_format, \n",
    "        folder_path):\n",
    "    \"\"\"\n",
    "    :param satellite_name: the satellite image name\n",
    "    :param situation: condition of the wildfire, \"prefire\" or \"postfire\"\n",
    "    :param dataset: dataset of the wildfire events \n",
    "    :param scale: scale for the satellite bands\n",
    "    :param file_format: file format of the file being downloaded\n",
    "    :param folder_path: location for the downloaded satellite image band files\n",
    "    :return: None (just download the file into the specified folder_path)\n",
    "    \"\"\"\n",
    "        \n",
    "    for row in range(len(dataset)):\n",
    "        file_path = os.path.join(folder_path, str(row))\n",
    "        if os.path.exists(file_path):\n",
    "            print(\"data already exist\")\n",
    "        else:\n",
    "            os.mkdir(file_path)\n",
    "            \n",
    "        os.chdir(file_path)\n",
    "        print(os.getcwd())\n",
    "        # Set coordinates\n",
    "        coordinates = [float(dataset.lat.values[row]), float(dataset.long.values[row])]\n",
    "        region = ee.Geometry.Rectangle([coordinates[1]-0.2, coordinates[0]-0.2, \n",
    "                                        coordinates[1]+0.2, coordinates[0]+0.2]);\n",
    "\n",
    "\n",
    "        # filter image collection\n",
    "        # set base date\n",
    "        base_date = ee.Date(dataset.date.values[row])\n",
    "\n",
    "        # set geometry point\n",
    "        point = ee.Geometry.Point(dataset.long.values[row], dataset.lat.values[row])\n",
    "\n",
    "        # pre fire\n",
    "        prefire_date_start = ee.Date(base_date.advance(-365, 'day'))\n",
    "        prefire_date_end = ee.Date(base_date.advance(-1, 'day'))\n",
    "\n",
    "        # sentinel image pre wildfire event\n",
    "        prefire_collection = ee.ImageCollection(satellite_name)\\\n",
    "                                   .filterDate(prefire_date_start, prefire_date_end)\\\n",
    "                                   .filterBounds(region)\\\n",
    "                                   .map(s2CloudMasking)\\\n",
    "                                   .median()\n",
    "\n",
    "        # Calculate NBR for pre fire\n",
    "        pre_nbr = prefire_collection.normalizedDifference(['B8', 'B12'])\n",
    "\n",
    "\n",
    "        # post fire\n",
    "        postfire_date_start = ee.Date(base_date.advance(1, 'day'))\n",
    "        postfire_date_end = ee.Date(base_date.advance(365, 'day'))\n",
    "\n",
    "        # sentinel image post wildfire event\n",
    "        postfire_collection = ee.ImageCollection(satellite_name)\\\n",
    "                                   .filterDate(postfire_date_start, postfire_date_end)\\\n",
    "                                   .filterBounds(region)\\\n",
    "                                   .map(s2CloudMasking)\\\n",
    "                                   .median()\n",
    "\n",
    "        # Calculate NBR for post fire\n",
    "        post_nbr = postfire_collection.normalizedDifference(['B8', 'B12'])\n",
    "\n",
    "        # calculate delta NBR\n",
    "        delta_nbr = pre_nbr.subtract(post_nbr).rename('DELTA_NBR')\n",
    "        postfire_collection = postfire_collection.addBands(delta_nbr)\n",
    "        \n",
    "        if situation == 'prefire':\n",
    "            filenames= ['b12_b8','b4_b3','b2']\n",
    "            bands =  [\n",
    "                ['B12', 'B8'], \n",
    "                ['B4', 'B3'], \n",
    "                ['B2'],\n",
    "                ]\n",
    "            \n",
    "            for i in range(len(filenames)):\n",
    "                if filenames[i] not in os.listdir():\n",
    "                    download_url = postfire_collection.getDownloadURL({\n",
    "                        'region': region,\n",
    "                        'bands' : bands[i],\n",
    "                        'scale' : scale,\n",
    "                        'format': file_format\n",
    "                        }\n",
    "                    )\n",
    "                    \n",
    "                    print(f\"download data from {download_url}\")\n",
    "                    urllib.request.urlretrieve(download_url, filenames[i])\n",
    "                    print(f\"{download_url} downloaded\")\n",
    "                \n",
    "                else:\n",
    "                    print(f\"{bands[i]} already exist\")\n",
    "                    \n",
    "        else:\n",
    "            filenames= ['dnbr_b12','b8_b4','b3_b2']\n",
    "            bands =  [\n",
    "                ['DELTA_NBR', 'B12'], \n",
    "                ['B8', 'B4'], \n",
    "                ['B3', 'B2'],\n",
    "                ]\n",
    "\n",
    "            for i in range(len(filenames)):\n",
    "                if filenames[i] not in os.listdir():\n",
    "                    download_url = postfire_collection.getDownloadURL({\n",
    "                        'region': region,\n",
    "                        'bands' : bands[i],\n",
    "                        'scale' : scale,\n",
    "                        'format': file_format\n",
    "                        }\n",
    "                    )\n",
    "\n",
    "                    print(f\"download data from {download_url}\")\n",
    "                    urllib.request.urlretrieve(download_url, filenames[i])\n",
    "                    print(f\"{download_url} downloaded\")\n",
    "                else:\n",
    "                    print(f\"{bands[i]} already exist\")"
   ]
  },
  {
   "cell_type": "markdown",
   "metadata": {},
   "source": [
    "## 4. Create Folder to Store Satellite Image"
   ]
  },
  {
   "cell_type": "code",
   "execution_count": 4,
   "metadata": {},
   "outputs": [],
   "source": [
    "# create folder fot .tiff files\n",
    "D_DIR = \"D:\\\\\"\n",
    "\n",
    "WILDFIRE_SUMATERA_DATASET_DIR = \"wildfire-sumatera-dataset\"\n",
    "WILDFIRE_SUMATERA_GEOTIFF_DIR = \"wildfire-sumatera-geotiff\"\n",
    "\n",
    "SENTINEL_DIR = \"sentinel-2\"\n",
    "\n",
    "SENTINEL_PREFIRE_FOLDER = f\"{D_DIR}\\\\{WILDFIRE_SUMATERA_DATASET_DIR}\\\\{WILDFIRE_SUMATERA_GEOTIFF_DIR}\\\\{SENTINEL_DIR}\\\\prefire\"\n",
    "SENTINEL_POSTFIRE_FOLDER = f\"{D_DIR}\\\\{WILDFIRE_SUMATERA_DATASET_DIR}\\\\{WILDFIRE_SUMATERA_GEOTIFF_DIR}\\\\{SENTINEL_DIR}\\\\postfire\"\n",
    "\n",
    "if D_DIR is not os.getcwd():\n",
    "    os.chdir(D_DIR)\n",
    "    print(f\"OS directory is changed to {D_DIR}\")\n",
    "    print(os.getcwd())\n",
    "    print()\n",
    "    \n",
    "if WILDFIRE_SUMATERA_DATASET_DIR not in os.listdir():\n",
    "    os.mkdir(WILDFIRE_SUMATERA_DATASET_DIR)\n",
    "    print(f\"{WILDFIRE_SUMATERA_DATASET_DIR} has been created\")\n",
    "else:\n",
    "    os.chdir(D_DIR+WILDFIRE_SUMATERA_DATASET_DIR)\n",
    "    print(f\"{WILDFIRE_SUMATERA_DATASET_DIR} already exist\")\n"
   ]
  },
  {
   "cell_type": "code",
   "execution_count": 5,
   "metadata": {},
   "outputs": [],
   "source": [
    "# check whether the folder is exists\n",
    "if not os.path.exists(SENTINEL_PREFIRE_FOLDER):\n",
    "    os.makedirs(SENTINEL_PREFIRE_FOLDER)\n",
    "    print(f\"{SENTINEL_PREFIRE_FOLDER} has been successfully create\")\n",
    "else:\n",
    "    print(f\"{SENTINEL_PREFIRE_FOLDER} already exist\")\n",
    "\n",
    "if not os.path.exists(SENTINEL_POSTFIRE_FOLDER):\n",
    "    os.makedirs(SENTINEL_POSTFIRE_FOLDER)\n",
    "    print(f\"{SENTINEL_POSTFIRE_FOLDER} has been successfully create\")\n",
    "else:\n",
    "    print(f\"{SENTINEL_POSTFIRE_FOLDER} already exist\")"
   ]
  },
  {
   "cell_type": "markdown",
   "metadata": {},
   "source": [
    "## 5. Download the Satellite Image"
   ]
  },
  {
   "cell_type": "code",
   "execution_count": 6,
   "metadata": {
    "scrolled": true
   },
   "outputs": [],
   "source": [
    "download_sentinel_satellite_image(\n",
    "    satellite_name='COPERNICUS/S2',\n",
    "    situation='postfire',\n",
    "    dataset=sumatera_only,\n",
    "    scale=50,\n",
    "    file_format='GeoTIFF',\n",
    "    folder_path=SENTINEL_POSTFIRE_FOLDER,\n",
    "    )\n",
    "print(\"done\")"
   ]
  }
 ],
 "metadata": {
  "kernelspec": {
   "display_name": "sumatera wildfire (pipenv)",
   "language": "python",
   "name": "sumatera-wildfire-classification"
  },
  "language_info": {
   "codemirror_mode": {
    "name": "ipython",
    "version": 3
   },
   "file_extension": ".py",
   "mimetype": "text/x-python",
   "name": "python",
   "nbconvert_exporter": "python",
   "pygments_lexer": "ipython3",
   "version": "3.8.0"
  }
 },
 "nbformat": 4,
 "nbformat_minor": 4
}
