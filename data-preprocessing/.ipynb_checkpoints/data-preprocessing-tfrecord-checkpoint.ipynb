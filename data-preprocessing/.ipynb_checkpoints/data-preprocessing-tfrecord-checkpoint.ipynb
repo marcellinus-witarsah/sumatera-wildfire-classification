{
 "cells": [
  {
   "cell_type": "markdown",
   "id": "49ccd549",
   "metadata": {},
   "source": [
    "# Import Python Packages"
   ]
  },
  {
   "cell_type": "code",
   "execution_count": 14,
   "id": "c9de9be4",
   "metadata": {},
   "outputs": [],
   "source": [
    "# Import All Necessary Libraries and Create File Paths\n",
    "import os\n",
    "import sys\n",
    "import pandas as pd\n",
    "import numpy as np\n",
    "\n",
    "# Plotting\n",
    "import matplotlib.pyplot as plt\n",
    "\n",
    "# Modelling CNN|\n",
    "import tensorflow as tf\n",
    "import glob\n",
    "import math\n",
    "import matplotlib.pyplot as plt\n",
    "import cv2\n",
    "from tqdm import tqdm"
   ]
  },
  {
   "cell_type": "markdown",
   "id": "915bf247",
   "metadata": {},
   "source": [
    "# Define Paths"
   ]
  },
  {
   "cell_type": "code",
   "execution_count": 17,
   "id": "79a40c87",
   "metadata": {},
   "outputs": [
    {
     "name": "stdout",
     "output_type": "stream",
     "text": [
      "D:\\wildfire-sumatera-dataset already exist\n",
      "D:\\wildfire-sumatera-dataset\\wildfire-sumatera-geotiff already exist\n",
      "D:\\wildfire-sumatera-dataset\\wildfire-sumatera-image already exist\n",
      "D:\\wildfire-sumatera-dataset\\wildfire-sumatera-image-mask already exist\n",
      "D:\\wildfire-sumatera-dataset\\wildfire-sumatera-image-mask-tfrecords already exist\n",
      "D:\\wildfire-sumatera-dataset\\wildfire-sumatera-geotiff\\sentinel-2 already exist\n",
      "D:\\wildfire-sumatera-dataset\\wildfire-sumatera-geotiff\\landsat-8 already exist\n",
      "D:\\wildfire-sumatera-dataset\\wildfire-sumatera-image\\sentinel-2 already exist\n",
      "D:\\wildfire-sumatera-dataset\\wildfire-sumatera-image\\landsat-8 already exist\n",
      "D:\\wildfire-sumatera-dataset\\wildfire-sumatera-geotiff\\landsat-8\\prefire already exist\n",
      "D:\\wildfire-sumatera-dataset\\wildfire-sumatera-geotiff\\landsat-8\\postfire already exist\n",
      "D:\\wildfire-sumatera-dataset\\wildfire-sumatera-geotiff\\sentinel-2\\prefire already exist\n",
      "D:\\wildfire-sumatera-dataset\\wildfire-sumatera-geotiff\\sentinel-2\\postfire already exist\n",
      "D:\\wildfire-sumatera-dataset\\wildfire-sumatera-image-mask\\sentinel-2 already exist\n",
      "D:\\wildfire-sumatera-dataset\\wildfire-sumatera-image-mask\\landsat-8 already exist\n",
      "D:\\wildfire-sumatera-dataset\\wildfire-sumatera-image-mask-tfrecords\\sentinel-2 already exist\n",
      "D:\\wildfire-sumatera-dataset\\wildfire-sumatera-image-mask-tfrecords\\landsat-8 already exist\n"
     ]
    }
   ],
   "source": [
    "# folder path or file path constants that will be used in this project\n",
    "# Root Directory (between 'F:' or 'D:'' depends on the external drive)\n",
    "ROOT = \"D:\\\\\"\n",
    "\n",
    "# Folder inside D:\\\\wildfire-sumatera-dataset\n",
    "WILDFIRE_SUMATERA_DATASET_FOLDER_PATH = os.path.join(ROOT, 'wildfire-sumatera-dataset')\n",
    "\n",
    "\n",
    "# Folders and metadatas inside D:\\\\wildfire-sumatera-dataset\n",
    "WILDFIRE_SUMATERA_GEOTIFF_FOLDER_PATH = os.path.join(WILDFIRE_SUMATERA_DATASET_FOLDER_PATH, 'wildfire-sumatera-geotiff')\n",
    "WILDFIRE_SUMATERA_IMAGE_FOLDER_PATH = os.path.join(WILDFIRE_SUMATERA_DATASET_FOLDER_PATH, 'wildfire-sumatera-image')\n",
    "WILDFIRE_SUMATERA_IMAGE_MASK_FOLDER_PATH = os.path.join(WILDFIRE_SUMATERA_DATASET_FOLDER_PATH, 'wildfire-sumatera-image-mask')\n",
    "WILDFIRE_SUMATERA_IMAGE_MASK_TFRECORD_FOLDER_PATH = os.path.join(WILDFIRE_SUMATERA_DATASET_FOLDER_PATH, 'wildfire-sumatera-image-mask-tfrecords')\n",
    "\n",
    "# Files (.csv) and metadatas inside D:\\\\wildfire-sumatera-dataset\n",
    "METADATA_LANDSAT_8_FILE_PATH = os.path.join(WILDFIRE_SUMATERA_DATASET_FOLDER_PATH, 'metadata_landsat_8.csv')\n",
    "METADATA_SENTINEL_2_FILE_PATH = os.path.join(WILDFIRE_SUMATERA_DATASET_FOLDER_PATH, 'metadata_sentinel_2.csv')\n",
    "\n",
    "# Folders inside D:\\\\wildfire-sumatera-dataset\\\\wildfire-sumatera-geotiff\n",
    "SENTINEL_2_GEOTIFF_FOLDER_PATH = os.path.join(WILDFIRE_SUMATERA_GEOTIFF_FOLDER_PATH, 'sentinel-2')\n",
    "LANDSAT_8_GEOTIFF_FOLDER_PATH = os.path.join(WILDFIRE_SUMATERA_GEOTIFF_FOLDER_PATH, 'landsat-8')\n",
    "\n",
    "# Folders inside D:\\\\wildfire-sumatera-dataset\\\\wildfire-sumatera-image\n",
    "SENTINEL_2_IMAGE_FOLDER_PATH = os.path.join(WILDFIRE_SUMATERA_IMAGE_FOLDER_PATH, 'sentinel-2')\n",
    "LANDSAT_8_IMAGE_FOLDER_PATH = os.path.join(WILDFIRE_SUMATERA_IMAGE_FOLDER_PATH, 'landsat-8')\n",
    "\n",
    "# Folders inside D:\\\\wildfire-sumatera-dataset\\\\wildfire-sumatera-geotiff\\\\landsat-8\n",
    "LANDSAT_8_PREFIRE_GEOTIFF_FOLDER_PATH = os.path.join(LANDSAT_8_GEOTIFF_FOLDER_PATH, 'prefire')\n",
    "LANDSAT_8_POSTFIRE_GEOTIFF_FOLDER_PATH = os.path.join(LANDSAT_8_GEOTIFF_FOLDER_PATH, 'postfire')\n",
    "\n",
    "# Folders inside D:\\\\wildfire-sumatera-dataset\\\\wildfire-sumatera-geotiff\\\\sentinel-2\n",
    "SENTINEL_2_PREFIRE_GEOTIFF_FOLDER_PATH = os.path.join(SENTINEL_2_GEOTIFF_FOLDER_PATH, 'prefire')\n",
    "SENTINEL_2_POSTFIRE_GEOTIFF_FOLDER_PATH = os.path.join(SENTINEL_2_GEOTIFF_FOLDER_PATH, 'postfire')\n",
    "\n",
    "# Folders inside D:\\\\wildfire-sumatera-dataset\\\\wildfire-sumatera-image-mask\n",
    "SENTINEL_2_IMAGE_MASK_FOLDER_PATH = os.path.join(WILDFIRE_SUMATERA_IMAGE_MASK_FOLDER_PATH, 'sentinel-2')\n",
    "LANDSAT_8_IMAGE_MASK_FOLDER_PATH = os.path.join(WILDFIRE_SUMATERA_IMAGE_MASK_FOLDER_PATH, 'landsat-8')\n",
    "\n",
    "# Folders inside\n",
    "SENTINEL_2_IMAGE_MASK_TFRECORD_FOLDER_PATH = os.path.join(WILDFIRE_SUMATERA_IMAGE_MASK_TFRECORD_FOLDER_PATH, 'sentinel-2')\n",
    "LANDSAT_8_IMAGE_MASK_TFRECORD_FOLDER_PATH = os.path.join(WILDFIRE_SUMATERA_IMAGE_MASK_TFRECORD_FOLDER_PATH, 'landsat-8')\n",
    "\n",
    "dirs = [\n",
    "    WILDFIRE_SUMATERA_DATASET_FOLDER_PATH,\n",
    "    WILDFIRE_SUMATERA_GEOTIFF_FOLDER_PATH, \n",
    "    WILDFIRE_SUMATERA_IMAGE_FOLDER_PATH,\n",
    "    WILDFIRE_SUMATERA_IMAGE_MASK_FOLDER_PATH,\n",
    "    WILDFIRE_SUMATERA_IMAGE_MASK_TFRECORD_FOLDER_PATH,\n",
    "    \n",
    "    SENTINEL_2_GEOTIFF_FOLDER_PATH, \n",
    "    LANDSAT_8_GEOTIFF_FOLDER_PATH,\n",
    "    SENTINEL_2_IMAGE_FOLDER_PATH,\n",
    "    LANDSAT_8_IMAGE_FOLDER_PATH,\n",
    "    \n",
    "    LANDSAT_8_PREFIRE_GEOTIFF_FOLDER_PATH,\n",
    "    LANDSAT_8_POSTFIRE_GEOTIFF_FOLDER_PATH,\n",
    "    SENTINEL_2_PREFIRE_GEOTIFF_FOLDER_PATH,\n",
    "    SENTINEL_2_POSTFIRE_GEOTIFF_FOLDER_PATH,\n",
    "    \n",
    "    SENTINEL_2_IMAGE_MASK_FOLDER_PATH,\n",
    "    LANDSAT_8_IMAGE_MASK_FOLDER_PATH,\n",
    "    \n",
    "    SENTINEL_2_IMAGE_MASK_TFRECORD_FOLDER_PATH,\n",
    "    LANDSAT_8_IMAGE_MASK_TFRECORD_FOLDER_PATH,\n",
    "]\n",
    "\n",
    "for dir_ in dirs:\n",
    "    if not os.path.exists(dir_):\n",
    "        os.mkdir(dir_)\n",
    "        print(f\"{dir_} has been created\")\n",
    "    else:\n",
    "        print(f\"{dir_} already exist\")"
   ]
  },
  {
   "cell_type": "markdown",
   "id": "571751a6",
   "metadata": {},
   "source": [
    "# Define TFRecords Helper Functions"
   ]
  },
  {
   "cell_type": "code",
   "execution_count": 18,
   "id": "22a78ea7",
   "metadata": {},
   "outputs": [],
   "source": [
    "def image_feature(value):\n",
    "    \"\"\"\n",
    "    :param value: string / byte data\n",
    "    :return: tf.train.Feature with bytes_list value\n",
    "    \"\"\"\n",
    "    if isinstance(value, type(tf.constant(0))):\n",
    "        value = tf.io.encode_png(value).numpy()\n",
    "    return tf.train.Feature(\n",
    "        bytes_list=tf.train.BytesList(value=[value]))\n",
    "\n",
    "\n",
    "def int64_feature(value):\n",
    "    \"\"\"\n",
    "    :param value: bool / enum / int / uint data\n",
    "    :return: tf.train.Feature with int64_list value\n",
    "    \"\"\"\n",
    "    return tf.train.Feature(int64_list=tf.train.Int64List(value=[value]))\n",
    "\n",
    "\n",
    "def create_example(image, mask, label):\n",
    "    \"\"\"\n",
    "    :param image: image data\n",
    "    :param example: mask data\n",
    "    :param example: label / class data\n",
    "    :return: data packed into tf.train.Example\n",
    "    \"\"\"\n",
    "    height=image.shape[0]\n",
    "    width=image.shape[1]\n",
    "    feature = {\n",
    "        \"image\": image_feature(image),\n",
    "        \"mask\": image_feature(mask),\n",
    "        \"height\": int64_feature(height),\n",
    "        \"width\": int64_feature(width),\n",
    "        \"label\": int64_feature(label),\n",
    "    }\n",
    "    \n",
    "    return tf.train.Example(features=tf.train.Features(feature=feature))\n",
    "\n",
    "\n",
    "def parse_tfrecord_fn(example):\n",
    "    \"\"\"\n",
    "    :param example: A scalar string Tensor (a single serialized example)\n",
    "    :return: \n",
    "    \"\"\"\n",
    "    feature_description = {\n",
    "        \"image\": tf.io.FixedLenFeature([], tf.string),\n",
    "        \"mask\": tf.io.FixedLenFeature([], tf.string),\n",
    "        \"height\": tf.io.FixedLenFeature([], tf.int64),\n",
    "        \"width\": tf.io.FixedLenFeature([], tf.int64),\n",
    "        \"label\": tf.io.FixedLenFeature([], tf.int64),\n",
    "    }\n",
    "    example = tf.io.parse_single_example(example, feature_description)\n",
    "    example[\"image\"] = tf.io.decode_png(example[\"image\"])\n",
    "    example[\"mask\"] = tf.io.decode_png(example[\"mask\"])\n",
    "    return example"
   ]
  },
  {
   "cell_type": "markdown",
   "id": "c7d66ddb",
   "metadata": {},
   "source": [
    "# Create TFRecords for Landsat 8 Images and Masks"
   ]
  },
  {
   "cell_type": "code",
   "execution_count": 19,
   "id": "9cd5c9b4",
   "metadata": {},
   "outputs": [],
   "source": [
    "landsat_df = pd.read_csv(METADATA_LANDSAT_8_FILE_PATH)\n",
    "filtered_landsat_df = landsat_df[(landsat_df['image_condition']==1)]\n",
    "len_images_masks = len(filtered_landsat_df)"
   ]
  },
  {
   "cell_type": "code",
   "execution_count": 28,
   "id": "967ac7bd",
   "metadata": {},
   "outputs": [
    {
     "name": "stderr",
     "output_type": "stream",
     "text": [
      "7836it [00:07, 982.50it/s] \n"
     ]
    }
   ],
   "source": [
    "for tfrec_num, row in tqdm(filtered_landsat_df.iterrows(), colour='green'):\n",
    "    image_mask_path = row['folder_paths_image_mask']\n",
    "    tf_record_path = os.path.join(\n",
    "        LANDSAT_8_IMAGE_MASK_TFRECORD_FOLDER_PATH, \"file_{}-{}.tfrec\".format(tfrec_num, len_images_masks))\n",
    "    if os.path.exists(tf_record_path):\n",
    "        continue\n",
    "    \n",
    "    with tf.io.TFRecordWriter(tf_record_path) as writer:\n",
    "        image_path = os.path.join(ROOT, image_mask_path, 'image.png')\n",
    "        image = tf.io.decode_png(tf.io.read_file(image_path), dtype=tf.dtypes.uint8)\n",
    "        mask_path = os.path.join(ROOT, image_mask_path, 'cleaned_mask.png')\n",
    "        mask = tf.io.decode_png(tf.io.read_file(mask_path), dtype=tf.dtypes.uint8)\n",
    "        example = create_example(image, mask, row['class_by_median'])\n",
    "        writer.write(example.SerializeToString())\n",
    "        writer.close()"
   ]
  },
  {
   "cell_type": "code",
   "execution_count": 1,
   "id": "b4612e51",
   "metadata": {
    "scrolled": false
   },
   "outputs": [],
   "source": [
    "files = os.path.join(LANDSAT_8_IMAGE_MASK_TFRECORD_FOLDER_PATH, 'file_0-7836.tfrec')\n",
    "\n",
    "raw_dataset = tf.data.TFRecordDataset(files)\n",
    "parsed_dataset = raw_dataset.map(parse_tfrecord_fn)\n",
    "\n",
    "for features in parsed_dataset.take(1):\n",
    "    print(\"label: {}\".format(features['label']))\n",
    "    print(\"Image shape: {}\".format(features['image'].shape))\n",
    "    plt.figure(figsize=(7, 7))\n",
    "    plt.imshow(features[\"image\"].numpy()*3)\n",
    "    plt.show()\n",
    "    plt.figure(figsize=(7, 7))\n",
    "    plt.imshow(features[\"mask\"].numpy()*3)\n",
    "    plt.show()"
   ]
  },
  {
   "cell_type": "markdown",
   "id": "8da25e06",
   "metadata": {},
   "source": [
    "# Create TFRecords for Sentinel 2 Images and Masks"
   ]
  },
  {
   "cell_type": "code",
   "execution_count": 9,
   "id": "fb67d6ab",
   "metadata": {},
   "outputs": [],
   "source": [
    "# Prepare Data\n",
    "sentinel_df = pd.read_csv(METADATA_SENTINEL_2_FILE_PATH)\n",
    "filtered_sentinel_df = sentinel_df[(sentinel_df['image_condition']==1)]\n",
    "len_images_masks = len(filtered_sentinel_df)"
   ]
  },
  {
   "cell_type": "code",
   "execution_count": 17,
   "id": "6df8dee6",
   "metadata": {},
   "outputs": [
    {
     "name": "stderr",
     "output_type": "stream",
     "text": [
      "7829it [56:48,  2.30it/s]  \n"
     ]
    }
   ],
   "source": [
    "for tfrec_num, row in tqdm(filtered_sentinel_df.iterrows(), colour='green'):\n",
    "    image_mask_path = row['folder_paths_image_mask']\n",
    "    tf_record_path = os.path.join(SENTINEL_2_IMAGE_MASK_TFRECORD_FOLDER_PATH, \"file_{}-{}.tfrec\".format(tfrec_num, len_images_masks))\n",
    "    if os.path.exists(tf_record_path):\n",
    "        continue\n",
    "    \n",
    "    with tf.io.TFRecordWriter(tf_record_path) as writer:\n",
    "        image_path = os.path.join(ROOT, image_mask_path, 'image.png')\n",
    "        image = tf.io.decode_png(tf.io.read_file(image_path), dtype=tf.dtypes.uint8)\n",
    "        mask_path = os.path.join(ROOT, image_mask_path, 'cleaned_mask.png')\n",
    "        mask = tf.io.decode_png(tf.io.read_file(mask_path), dtype=tf.dtypes.uint8)\n",
    "        example = create_example(image, mask, row['class_by_median'])\n",
    "        writer.write(example.SerializeToString())\n",
    "        writer.close()        "
   ]
  },
  {
   "cell_type": "code",
   "execution_count": 2,
   "id": "d065f87f",
   "metadata": {},
   "outputs": [],
   "source": [
    "files = os.path.join(SENTINEL_2_IMAGE_MASK_TFRECORD_FOLDER_PATH, 'file_0-7829.tfrec')\n",
    "print(files)\n",
    "\n",
    "raw_dataset = tf.data.TFRecordDataset(files)\n",
    "parsed_dataset = raw_dataset.map(parse_tfrecord_fn)\n",
    "\n",
    "for features in parsed_dataset.take(1):\n",
    "    print(\"label: {}\".format(features['label']))\n",
    "    print(\"Image shape: {}\".format(features['image'].shape))\n",
    "    plt.figure(figsize=(7, 7))\n",
    "    plt.imshow(features[\"image\"].numpy()*3)\n",
    "    plt.show()\n",
    "    plt.figure(figsize=(7, 7))\n",
    "    plt.imshow(features[\"mask\"].numpy()*3)\n",
    "    plt.show()"
   ]
  }
 ],
 "metadata": {
  "kernelspec": {
   "display_name": "sumatera wildfire (pipenv)",
   "language": "python",
   "name": "sumatera-wildfire-classification"
  },
  "language_info": {
   "codemirror_mode": {
    "name": "ipython",
    "version": 3
   },
   "file_extension": ".py",
   "mimetype": "text/x-python",
   "name": "python",
   "nbconvert_exporter": "python",
   "pygments_lexer": "ipython3",
   "version": "3.8.0"
  }
 },
 "nbformat": 4,
 "nbformat_minor": 5
}
