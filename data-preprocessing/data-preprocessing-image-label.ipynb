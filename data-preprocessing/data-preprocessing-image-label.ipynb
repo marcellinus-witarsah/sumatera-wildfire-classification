{
 "cells": [
  {
   "cell_type": "markdown",
   "id": "c0e36985",
   "metadata": {},
   "source": [
    "# Data Preprocessing"
   ]
  },
  {
   "cell_type": "markdown",
   "id": "9a3162ad",
   "metadata": {},
   "source": [
    "# 1. Import All Necessary Libraries and Create File Paths"
   ]
  },
  {
   "cell_type": "code",
   "execution_count": 1,
   "id": "550bad02",
   "metadata": {
    "scrolled": true
   },
   "outputs": [],
   "source": [
    "import os\n",
    "import pandas as pd\n",
    "import numpy as np\n",
    "import seaborn as sns\n",
    "import matplotlib.pyplot as plt\n",
    "import datetime\n",
    "from osgeo import gdal, gdal_array\n",
    "import sys\n",
    "import cv2"
   ]
  },
  {
   "cell_type": "code",
   "execution_count": 2,
   "id": "3e6c1d1b",
   "metadata": {},
   "outputs": [
    {
     "name": "stdout",
     "output_type": "stream",
     "text": [
      "D:wildfire-sumatera-dataset already exist\n",
      "D:wildfire-sumatera-dataset\\wildfire-sumatera-geotiff already exist\n",
      "D:wildfire-sumatera-dataset\\wildfire-sumatera-image already exist\n",
      "D:wildfire-sumatera-dataset\\wildfire-sumatera-image-mask already exist\n",
      "D:wildfire-sumatera-dataset\\wildfire-sumatera-image-mask-tfrecords already exist\n",
      "D:wildfire-sumatera-dataset\\wildfire-sumatera-geotiff\\sentinel-2 already exist\n",
      "D:wildfire-sumatera-dataset\\wildfire-sumatera-geotiff\\landsat-8 already exist\n",
      "D:wildfire-sumatera-dataset\\wildfire-sumatera-image\\sentinel-2 already exist\n",
      "D:wildfire-sumatera-dataset\\wildfire-sumatera-image\\landsat-8 already exist\n",
      "D:wildfire-sumatera-dataset\\wildfire-sumatera-geotiff\\landsat-8\\prefire already exist\n",
      "D:wildfire-sumatera-dataset\\wildfire-sumatera-geotiff\\landsat-8\\postfire already exist\n",
      "D:wildfire-sumatera-dataset\\wildfire-sumatera-geotiff\\sentinel-2\\prefire already exist\n",
      "D:wildfire-sumatera-dataset\\wildfire-sumatera-geotiff\\sentinel-2\\postfire already exist\n",
      "D:wildfire-sumatera-dataset\\wildfire-sumatera-image-mask\\sentinel-2 already exist\n",
      "D:wildfire-sumatera-dataset\\wildfire-sumatera-image-mask\\landsat-8 already exist\n",
      "D:wildfire-sumatera-dataset\\wildfire-sumatera-image-mask-tfrecords\\sentinel-2 already exist\n",
      "D:wildfire-sumatera-dataset\\wildfire-sumatera-image-mask-tfrecords\\landsat-8 already exist\n"
     ]
    }
   ],
   "source": [
    "# folder path or file path constants that will be used in this project\n",
    "# Root Directory (between 'F:' or 'D:'' depends on the external drive)\n",
    "ROOT = \"D:\"\n",
    "\n",
    "# Folder inside D:\\\\wildfire-sumatera-dataset\n",
    "WILDFIRE_SUMATERA_DATASET_FOLDER_PATH = os.path.join(ROOT, 'wildfire-sumatera-dataset')\n",
    "\n",
    "\n",
    "# Folders and metadatas inside D:\\\\wildfire-sumatera-dataset\n",
    "WILDFIRE_SUMATERA_GEOTIFF_FOLDER_PATH = os.path.join(WILDFIRE_SUMATERA_DATASET_FOLDER_PATH, 'wildfire-sumatera-geotiff')\n",
    "WILDFIRE_SUMATERA_IMAGE_FOLDER_PATH = os.path.join(WILDFIRE_SUMATERA_DATASET_FOLDER_PATH, 'wildfire-sumatera-image')\n",
    "WILDFIRE_SUMATERA_IMAGE_MASK_FOLDER_PATH = os.path.join(WILDFIRE_SUMATERA_DATASET_FOLDER_PATH, 'wildfire-sumatera-image-mask')\n",
    "WILDFIRE_SUMATERA_IMAGE_MASK_TFRECORD_FOLDER_PATH = os.path.join(WILDFIRE_SUMATERA_DATASET_FOLDER_PATH, 'wildfire-sumatera-image-mask-tfrecords')\n",
    "\n",
    "# Files (.csv) and metadatas inside D:\\\\wildfire-sumatera-dataset\n",
    "METADATA_LANDSAT_8_FILE_PATH = os.path.join(WILDFIRE_SUMATERA_DATASET_FOLDER_PATH, 'metadata_landsat_8.csv')\n",
    "METADATA_SENTINEL_2_FILE_PATH = os.path.join(WILDFIRE_SUMATERA_DATASET_FOLDER_PATH, 'metadata_sentinel_2.csv')\n",
    "\n",
    "# Folders inside D:\\\\wildfire-sumatera-dataset\\\\wildfire-sumatera-geotiff\n",
    "SENTINEL_2_GEOTIFF_FOLDER_PATH = os.path.join(WILDFIRE_SUMATERA_GEOTIFF_FOLDER_PATH, 'sentinel-2')\n",
    "LANDSAT_8_GEOTIFF_FOLDER_PATH = os.path.join(WILDFIRE_SUMATERA_GEOTIFF_FOLDER_PATH, 'landsat-8')\n",
    "\n",
    "# Folders inside D:\\\\wildfire-sumatera-dataset\\\\wildfire-sumatera-image\n",
    "SENTINEL_2_IMAGE_FOLDER_PATH = os.path.join(WILDFIRE_SUMATERA_IMAGE_FOLDER_PATH, 'sentinel-2')\n",
    "LANDSAT_8_IMAGE_FOLDER_PATH = os.path.join(WILDFIRE_SUMATERA_IMAGE_FOLDER_PATH, 'landsat-8')\n",
    "\n",
    "# Folders inside D:\\\\wildfire-sumatera-dataset\\\\wildfire-sumatera-geotiff\\\\landsat-8\n",
    "LANDSAT_8_PREFIRE_GEOTIFF_FOLDER_PATH = os.path.join(LANDSAT_8_GEOTIFF_FOLDER_PATH, 'prefire')\n",
    "LANDSAT_8_POSTFIRE_GEOTIFF_FOLDER_PATH = os.path.join(LANDSAT_8_GEOTIFF_FOLDER_PATH, 'postfire')\n",
    "\n",
    "# Folders inside D:\\\\wildfire-sumatera-dataset\\\\wildfire-sumatera-geotiff\\\\sentinel-2\n",
    "SENTINEL_2_PREFIRE_GEOTIFF_FOLDER_PATH = os.path.join(SENTINEL_2_GEOTIFF_FOLDER_PATH, 'prefire')\n",
    "SENTINEL_2_POSTFIRE_GEOTIFF_FOLDER_PATH = os.path.join(SENTINEL_2_GEOTIFF_FOLDER_PATH, 'postfire')\n",
    "\n",
    "# Folders inside D:\\\\wildfire-sumatera-dataset\\\\wildfire-sumatera-image-mask\n",
    "SENTINEL_2_IMAGE_MASK_FOLDER_PATH = os.path.join(WILDFIRE_SUMATERA_IMAGE_MASK_FOLDER_PATH, 'sentinel-2')\n",
    "LANDSAT_8_IMAGE_MASK_FOLDER_PATH = os.path.join(WILDFIRE_SUMATERA_IMAGE_MASK_FOLDER_PATH, 'landsat-8')\n",
    "\n",
    "# Folders inside\n",
    "SENTINEL_2_IMAGE_MASK_TFRECORD_FOLDER_PATH = os.path.join(WILDFIRE_SUMATERA_IMAGE_MASK_TFRECORD_FOLDER_PATH, 'sentinel-2')\n",
    "LANDSAT_8_IMAGE_MASK_TFRECORD_FOLDER_PATH = os.path.join(WILDFIRE_SUMATERA_IMAGE_MASK_TFRECORD_FOLDER_PATH, 'landsat-8')\n",
    "\n",
    "dirs = [\n",
    "    WILDFIRE_SUMATERA_DATASET_FOLDER_PATH,\n",
    "    WILDFIRE_SUMATERA_GEOTIFF_FOLDER_PATH, \n",
    "    WILDFIRE_SUMATERA_IMAGE_FOLDER_PATH,\n",
    "    WILDFIRE_SUMATERA_IMAGE_MASK_FOLDER_PATH,\n",
    "    WILDFIRE_SUMATERA_IMAGE_MASK_TFRECORD_FOLDER_PATH,\n",
    "    \n",
    "    SENTINEL_2_GEOTIFF_FOLDER_PATH, \n",
    "    LANDSAT_8_GEOTIFF_FOLDER_PATH,\n",
    "    SENTINEL_2_IMAGE_FOLDER_PATH,\n",
    "    LANDSAT_8_IMAGE_FOLDER_PATH,\n",
    "    \n",
    "    LANDSAT_8_PREFIRE_GEOTIFF_FOLDER_PATH,\n",
    "    LANDSAT_8_POSTFIRE_GEOTIFF_FOLDER_PATH,\n",
    "    SENTINEL_2_PREFIRE_GEOTIFF_FOLDER_PATH,\n",
    "    SENTINEL_2_POSTFIRE_GEOTIFF_FOLDER_PATH,\n",
    "    \n",
    "    SENTINEL_2_IMAGE_MASK_FOLDER_PATH,\n",
    "    LANDSAT_8_IMAGE_MASK_FOLDER_PATH,\n",
    "    \n",
    "    SENTINEL_2_IMAGE_MASK_TFRECORD_FOLDER_PATH,\n",
    "    LANDSAT_8_IMAGE_MASK_TFRECORD_FOLDER_PATH,\n",
    "]\n",
    "\n",
    "for dir_ in dirs:\n",
    "    if not os.path.exists(dir_):\n",
    "        os.mkdir(dir_)\n",
    "        print(f\"{dir_} has been created\")\n",
    "    else:\n",
    "        print(f\"{dir_} already exist\")"
   ]
  },
  {
   "cell_type": "markdown",
   "id": "4dcb0e6d",
   "metadata": {},
   "source": [
    "# 2. Access The Dataset\n",
    "The dataset name is **data-total.csv** which contains all the necessary information about dates and location coordinates of a wildfire events in Indonesia."
   ]
  },
  {
   "cell_type": "code",
   "execution_count": 3,
   "id": "2b40332e",
   "metadata": {},
   "outputs": [
    {
     "ename": "FileNotFoundError",
     "evalue": "[Errno 2] No such file or directory: 'data-total.csv'",
     "output_type": "error",
     "traceback": [
      "\u001b[1;31m---------------------------------------------------------------------------\u001b[0m",
      "\u001b[1;31mFileNotFoundError\u001b[0m                         Traceback (most recent call last)",
      "Input \u001b[1;32mIn [3]\u001b[0m, in \u001b[0;36m<cell line: 4>\u001b[1;34m()\u001b[0m\n\u001b[0;32m      1\u001b[0m pd\u001b[38;5;241m.\u001b[39mset_option(\u001b[38;5;124m'\u001b[39m\u001b[38;5;124mdisplay.max_columns\u001b[39m\u001b[38;5;124m'\u001b[39m, \u001b[38;5;28;01mNone\u001b[39;00m)\n\u001b[0;32m      2\u001b[0m pd\u001b[38;5;241m.\u001b[39mset_option(\u001b[38;5;124m'\u001b[39m\u001b[38;5;124mdisplay.max_rows\u001b[39m\u001b[38;5;124m'\u001b[39m, \u001b[38;5;241m100\u001b[39m)\n\u001b[1;32m----> 4\u001b[0m wf_data  \u001b[38;5;241m=\u001b[39m \u001b[43mpd\u001b[49m\u001b[38;5;241;43m.\u001b[39;49m\u001b[43mread_csv\u001b[49m\u001b[43m(\u001b[49m\u001b[38;5;124;43m\"\u001b[39;49m\u001b[38;5;124;43mdata-total.csv\u001b[39;49m\u001b[38;5;124;43m\"\u001b[39;49m\u001b[43m)\u001b[49m\n\u001b[0;32m      5\u001b[0m wf_data\u001b[38;5;241m.\u001b[39mcolumns\n\u001b[0;32m      7\u001b[0m \u001b[38;5;66;03m# rename columns\u001b[39;00m\n",
      "File \u001b[1;32m~\\.virtualenvs\\wildfire-sumatera-classification-3CIyzrti\\lib\\site-packages\\pandas\\util\\_decorators.py:311\u001b[0m, in \u001b[0;36mdeprecate_nonkeyword_arguments.<locals>.decorate.<locals>.wrapper\u001b[1;34m(*args, **kwargs)\u001b[0m\n\u001b[0;32m    305\u001b[0m \u001b[38;5;28;01mif\u001b[39;00m \u001b[38;5;28mlen\u001b[39m(args) \u001b[38;5;241m>\u001b[39m num_allow_args:\n\u001b[0;32m    306\u001b[0m     warnings\u001b[38;5;241m.\u001b[39mwarn(\n\u001b[0;32m    307\u001b[0m         msg\u001b[38;5;241m.\u001b[39mformat(arguments\u001b[38;5;241m=\u001b[39marguments),\n\u001b[0;32m    308\u001b[0m         \u001b[38;5;167;01mFutureWarning\u001b[39;00m,\n\u001b[0;32m    309\u001b[0m         stacklevel\u001b[38;5;241m=\u001b[39mstacklevel,\n\u001b[0;32m    310\u001b[0m     )\n\u001b[1;32m--> 311\u001b[0m \u001b[38;5;28;01mreturn\u001b[39;00m \u001b[43mfunc\u001b[49m\u001b[43m(\u001b[49m\u001b[38;5;241;43m*\u001b[39;49m\u001b[43margs\u001b[49m\u001b[43m,\u001b[49m\u001b[43m \u001b[49m\u001b[38;5;241;43m*\u001b[39;49m\u001b[38;5;241;43m*\u001b[39;49m\u001b[43mkwargs\u001b[49m\u001b[43m)\u001b[49m\n",
      "File \u001b[1;32m~\\.virtualenvs\\wildfire-sumatera-classification-3CIyzrti\\lib\\site-packages\\pandas\\io\\parsers\\readers.py:680\u001b[0m, in \u001b[0;36mread_csv\u001b[1;34m(filepath_or_buffer, sep, delimiter, header, names, index_col, usecols, squeeze, prefix, mangle_dupe_cols, dtype, engine, converters, true_values, false_values, skipinitialspace, skiprows, skipfooter, nrows, na_values, keep_default_na, na_filter, verbose, skip_blank_lines, parse_dates, infer_datetime_format, keep_date_col, date_parser, dayfirst, cache_dates, iterator, chunksize, compression, thousands, decimal, lineterminator, quotechar, quoting, doublequote, escapechar, comment, encoding, encoding_errors, dialect, error_bad_lines, warn_bad_lines, on_bad_lines, delim_whitespace, low_memory, memory_map, float_precision, storage_options)\u001b[0m\n\u001b[0;32m    665\u001b[0m kwds_defaults \u001b[38;5;241m=\u001b[39m _refine_defaults_read(\n\u001b[0;32m    666\u001b[0m     dialect,\n\u001b[0;32m    667\u001b[0m     delimiter,\n\u001b[1;32m   (...)\u001b[0m\n\u001b[0;32m    676\u001b[0m     defaults\u001b[38;5;241m=\u001b[39m{\u001b[38;5;124m\"\u001b[39m\u001b[38;5;124mdelimiter\u001b[39m\u001b[38;5;124m\"\u001b[39m: \u001b[38;5;124m\"\u001b[39m\u001b[38;5;124m,\u001b[39m\u001b[38;5;124m\"\u001b[39m},\n\u001b[0;32m    677\u001b[0m )\n\u001b[0;32m    678\u001b[0m kwds\u001b[38;5;241m.\u001b[39mupdate(kwds_defaults)\n\u001b[1;32m--> 680\u001b[0m \u001b[38;5;28;01mreturn\u001b[39;00m \u001b[43m_read\u001b[49m\u001b[43m(\u001b[49m\u001b[43mfilepath_or_buffer\u001b[49m\u001b[43m,\u001b[49m\u001b[43m \u001b[49m\u001b[43mkwds\u001b[49m\u001b[43m)\u001b[49m\n",
      "File \u001b[1;32m~\\.virtualenvs\\wildfire-sumatera-classification-3CIyzrti\\lib\\site-packages\\pandas\\io\\parsers\\readers.py:575\u001b[0m, in \u001b[0;36m_read\u001b[1;34m(filepath_or_buffer, kwds)\u001b[0m\n\u001b[0;32m    572\u001b[0m _validate_names(kwds\u001b[38;5;241m.\u001b[39mget(\u001b[38;5;124m\"\u001b[39m\u001b[38;5;124mnames\u001b[39m\u001b[38;5;124m\"\u001b[39m, \u001b[38;5;28;01mNone\u001b[39;00m))\n\u001b[0;32m    574\u001b[0m \u001b[38;5;66;03m# Create the parser.\u001b[39;00m\n\u001b[1;32m--> 575\u001b[0m parser \u001b[38;5;241m=\u001b[39m \u001b[43mTextFileReader\u001b[49m\u001b[43m(\u001b[49m\u001b[43mfilepath_or_buffer\u001b[49m\u001b[43m,\u001b[49m\u001b[43m \u001b[49m\u001b[38;5;241;43m*\u001b[39;49m\u001b[38;5;241;43m*\u001b[39;49m\u001b[43mkwds\u001b[49m\u001b[43m)\u001b[49m\n\u001b[0;32m    577\u001b[0m \u001b[38;5;28;01mif\u001b[39;00m chunksize \u001b[38;5;129;01mor\u001b[39;00m iterator:\n\u001b[0;32m    578\u001b[0m     \u001b[38;5;28;01mreturn\u001b[39;00m parser\n",
      "File \u001b[1;32m~\\.virtualenvs\\wildfire-sumatera-classification-3CIyzrti\\lib\\site-packages\\pandas\\io\\parsers\\readers.py:934\u001b[0m, in \u001b[0;36mTextFileReader.__init__\u001b[1;34m(self, f, engine, **kwds)\u001b[0m\n\u001b[0;32m    931\u001b[0m     \u001b[38;5;28mself\u001b[39m\u001b[38;5;241m.\u001b[39moptions[\u001b[38;5;124m\"\u001b[39m\u001b[38;5;124mhas_index_names\u001b[39m\u001b[38;5;124m\"\u001b[39m] \u001b[38;5;241m=\u001b[39m kwds[\u001b[38;5;124m\"\u001b[39m\u001b[38;5;124mhas_index_names\u001b[39m\u001b[38;5;124m\"\u001b[39m]\n\u001b[0;32m    933\u001b[0m \u001b[38;5;28mself\u001b[39m\u001b[38;5;241m.\u001b[39mhandles: IOHandles \u001b[38;5;241m|\u001b[39m \u001b[38;5;28;01mNone\u001b[39;00m \u001b[38;5;241m=\u001b[39m \u001b[38;5;28;01mNone\u001b[39;00m\n\u001b[1;32m--> 934\u001b[0m \u001b[38;5;28mself\u001b[39m\u001b[38;5;241m.\u001b[39m_engine \u001b[38;5;241m=\u001b[39m \u001b[38;5;28;43mself\u001b[39;49m\u001b[38;5;241;43m.\u001b[39;49m\u001b[43m_make_engine\u001b[49m\u001b[43m(\u001b[49m\u001b[43mf\u001b[49m\u001b[43m,\u001b[49m\u001b[43m \u001b[49m\u001b[38;5;28;43mself\u001b[39;49m\u001b[38;5;241;43m.\u001b[39;49m\u001b[43mengine\u001b[49m\u001b[43m)\u001b[49m\n",
      "File \u001b[1;32m~\\.virtualenvs\\wildfire-sumatera-classification-3CIyzrti\\lib\\site-packages\\pandas\\io\\parsers\\readers.py:1218\u001b[0m, in \u001b[0;36mTextFileReader._make_engine\u001b[1;34m(self, f, engine)\u001b[0m\n\u001b[0;32m   1214\u001b[0m     mode \u001b[38;5;241m=\u001b[39m \u001b[38;5;124m\"\u001b[39m\u001b[38;5;124mrb\u001b[39m\u001b[38;5;124m\"\u001b[39m\n\u001b[0;32m   1215\u001b[0m \u001b[38;5;66;03m# error: No overload variant of \"get_handle\" matches argument types\u001b[39;00m\n\u001b[0;32m   1216\u001b[0m \u001b[38;5;66;03m# \"Union[str, PathLike[str], ReadCsvBuffer[bytes], ReadCsvBuffer[str]]\"\u001b[39;00m\n\u001b[0;32m   1217\u001b[0m \u001b[38;5;66;03m# , \"str\", \"bool\", \"Any\", \"Any\", \"Any\", \"Any\", \"Any\"\u001b[39;00m\n\u001b[1;32m-> 1218\u001b[0m \u001b[38;5;28mself\u001b[39m\u001b[38;5;241m.\u001b[39mhandles \u001b[38;5;241m=\u001b[39m \u001b[43mget_handle\u001b[49m\u001b[43m(\u001b[49m\u001b[43m  \u001b[49m\u001b[38;5;66;43;03m# type: ignore[call-overload]\u001b[39;49;00m\n\u001b[0;32m   1219\u001b[0m \u001b[43m    \u001b[49m\u001b[43mf\u001b[49m\u001b[43m,\u001b[49m\n\u001b[0;32m   1220\u001b[0m \u001b[43m    \u001b[49m\u001b[43mmode\u001b[49m\u001b[43m,\u001b[49m\n\u001b[0;32m   1221\u001b[0m \u001b[43m    \u001b[49m\u001b[43mencoding\u001b[49m\u001b[38;5;241;43m=\u001b[39;49m\u001b[38;5;28;43mself\u001b[39;49m\u001b[38;5;241;43m.\u001b[39;49m\u001b[43moptions\u001b[49m\u001b[38;5;241;43m.\u001b[39;49m\u001b[43mget\u001b[49m\u001b[43m(\u001b[49m\u001b[38;5;124;43m\"\u001b[39;49m\u001b[38;5;124;43mencoding\u001b[39;49m\u001b[38;5;124;43m\"\u001b[39;49m\u001b[43m,\u001b[49m\u001b[43m \u001b[49m\u001b[38;5;28;43;01mNone\u001b[39;49;00m\u001b[43m)\u001b[49m\u001b[43m,\u001b[49m\n\u001b[0;32m   1222\u001b[0m \u001b[43m    \u001b[49m\u001b[43mcompression\u001b[49m\u001b[38;5;241;43m=\u001b[39;49m\u001b[38;5;28;43mself\u001b[39;49m\u001b[38;5;241;43m.\u001b[39;49m\u001b[43moptions\u001b[49m\u001b[38;5;241;43m.\u001b[39;49m\u001b[43mget\u001b[49m\u001b[43m(\u001b[49m\u001b[38;5;124;43m\"\u001b[39;49m\u001b[38;5;124;43mcompression\u001b[39;49m\u001b[38;5;124;43m\"\u001b[39;49m\u001b[43m,\u001b[49m\u001b[43m \u001b[49m\u001b[38;5;28;43;01mNone\u001b[39;49;00m\u001b[43m)\u001b[49m\u001b[43m,\u001b[49m\n\u001b[0;32m   1223\u001b[0m \u001b[43m    \u001b[49m\u001b[43mmemory_map\u001b[49m\u001b[38;5;241;43m=\u001b[39;49m\u001b[38;5;28;43mself\u001b[39;49m\u001b[38;5;241;43m.\u001b[39;49m\u001b[43moptions\u001b[49m\u001b[38;5;241;43m.\u001b[39;49m\u001b[43mget\u001b[49m\u001b[43m(\u001b[49m\u001b[38;5;124;43m\"\u001b[39;49m\u001b[38;5;124;43mmemory_map\u001b[39;49m\u001b[38;5;124;43m\"\u001b[39;49m\u001b[43m,\u001b[49m\u001b[43m \u001b[49m\u001b[38;5;28;43;01mFalse\u001b[39;49;00m\u001b[43m)\u001b[49m\u001b[43m,\u001b[49m\n\u001b[0;32m   1224\u001b[0m \u001b[43m    \u001b[49m\u001b[43mis_text\u001b[49m\u001b[38;5;241;43m=\u001b[39;49m\u001b[43mis_text\u001b[49m\u001b[43m,\u001b[49m\n\u001b[0;32m   1225\u001b[0m \u001b[43m    \u001b[49m\u001b[43merrors\u001b[49m\u001b[38;5;241;43m=\u001b[39;49m\u001b[38;5;28;43mself\u001b[39;49m\u001b[38;5;241;43m.\u001b[39;49m\u001b[43moptions\u001b[49m\u001b[38;5;241;43m.\u001b[39;49m\u001b[43mget\u001b[49m\u001b[43m(\u001b[49m\u001b[38;5;124;43m\"\u001b[39;49m\u001b[38;5;124;43mencoding_errors\u001b[39;49m\u001b[38;5;124;43m\"\u001b[39;49m\u001b[43m,\u001b[49m\u001b[43m \u001b[49m\u001b[38;5;124;43m\"\u001b[39;49m\u001b[38;5;124;43mstrict\u001b[39;49m\u001b[38;5;124;43m\"\u001b[39;49m\u001b[43m)\u001b[49m\u001b[43m,\u001b[49m\n\u001b[0;32m   1226\u001b[0m \u001b[43m    \u001b[49m\u001b[43mstorage_options\u001b[49m\u001b[38;5;241;43m=\u001b[39;49m\u001b[38;5;28;43mself\u001b[39;49m\u001b[38;5;241;43m.\u001b[39;49m\u001b[43moptions\u001b[49m\u001b[38;5;241;43m.\u001b[39;49m\u001b[43mget\u001b[49m\u001b[43m(\u001b[49m\u001b[38;5;124;43m\"\u001b[39;49m\u001b[38;5;124;43mstorage_options\u001b[39;49m\u001b[38;5;124;43m\"\u001b[39;49m\u001b[43m,\u001b[49m\u001b[43m \u001b[49m\u001b[38;5;28;43;01mNone\u001b[39;49;00m\u001b[43m)\u001b[49m\u001b[43m,\u001b[49m\n\u001b[0;32m   1227\u001b[0m \u001b[43m\u001b[49m\u001b[43m)\u001b[49m\n\u001b[0;32m   1228\u001b[0m \u001b[38;5;28;01massert\u001b[39;00m \u001b[38;5;28mself\u001b[39m\u001b[38;5;241m.\u001b[39mhandles \u001b[38;5;129;01mis\u001b[39;00m \u001b[38;5;129;01mnot\u001b[39;00m \u001b[38;5;28;01mNone\u001b[39;00m\n\u001b[0;32m   1229\u001b[0m f \u001b[38;5;241m=\u001b[39m \u001b[38;5;28mself\u001b[39m\u001b[38;5;241m.\u001b[39mhandles\u001b[38;5;241m.\u001b[39mhandle\n",
      "File \u001b[1;32m~\\.virtualenvs\\wildfire-sumatera-classification-3CIyzrti\\lib\\site-packages\\pandas\\io\\common.py:786\u001b[0m, in \u001b[0;36mget_handle\u001b[1;34m(path_or_buf, mode, encoding, compression, memory_map, is_text, errors, storage_options)\u001b[0m\n\u001b[0;32m    781\u001b[0m \u001b[38;5;28;01melif\u001b[39;00m \u001b[38;5;28misinstance\u001b[39m(handle, \u001b[38;5;28mstr\u001b[39m):\n\u001b[0;32m    782\u001b[0m     \u001b[38;5;66;03m# Check whether the filename is to be opened in binary mode.\u001b[39;00m\n\u001b[0;32m    783\u001b[0m     \u001b[38;5;66;03m# Binary mode does not support 'encoding' and 'newline'.\u001b[39;00m\n\u001b[0;32m    784\u001b[0m     \u001b[38;5;28;01mif\u001b[39;00m ioargs\u001b[38;5;241m.\u001b[39mencoding \u001b[38;5;129;01mand\u001b[39;00m \u001b[38;5;124m\"\u001b[39m\u001b[38;5;124mb\u001b[39m\u001b[38;5;124m\"\u001b[39m \u001b[38;5;129;01mnot\u001b[39;00m \u001b[38;5;129;01min\u001b[39;00m ioargs\u001b[38;5;241m.\u001b[39mmode:\n\u001b[0;32m    785\u001b[0m         \u001b[38;5;66;03m# Encoding\u001b[39;00m\n\u001b[1;32m--> 786\u001b[0m         handle \u001b[38;5;241m=\u001b[39m \u001b[38;5;28;43mopen\u001b[39;49m\u001b[43m(\u001b[49m\n\u001b[0;32m    787\u001b[0m \u001b[43m            \u001b[49m\u001b[43mhandle\u001b[49m\u001b[43m,\u001b[49m\n\u001b[0;32m    788\u001b[0m \u001b[43m            \u001b[49m\u001b[43mioargs\u001b[49m\u001b[38;5;241;43m.\u001b[39;49m\u001b[43mmode\u001b[49m\u001b[43m,\u001b[49m\n\u001b[0;32m    789\u001b[0m \u001b[43m            \u001b[49m\u001b[43mencoding\u001b[49m\u001b[38;5;241;43m=\u001b[39;49m\u001b[43mioargs\u001b[49m\u001b[38;5;241;43m.\u001b[39;49m\u001b[43mencoding\u001b[49m\u001b[43m,\u001b[49m\n\u001b[0;32m    790\u001b[0m \u001b[43m            \u001b[49m\u001b[43merrors\u001b[49m\u001b[38;5;241;43m=\u001b[39;49m\u001b[43merrors\u001b[49m\u001b[43m,\u001b[49m\n\u001b[0;32m    791\u001b[0m \u001b[43m            \u001b[49m\u001b[43mnewline\u001b[49m\u001b[38;5;241;43m=\u001b[39;49m\u001b[38;5;124;43m\"\u001b[39;49m\u001b[38;5;124;43m\"\u001b[39;49m\u001b[43m,\u001b[49m\n\u001b[0;32m    792\u001b[0m \u001b[43m        \u001b[49m\u001b[43m)\u001b[49m\n\u001b[0;32m    793\u001b[0m     \u001b[38;5;28;01melse\u001b[39;00m:\n\u001b[0;32m    794\u001b[0m         \u001b[38;5;66;03m# Binary mode\u001b[39;00m\n\u001b[0;32m    795\u001b[0m         handle \u001b[38;5;241m=\u001b[39m \u001b[38;5;28mopen\u001b[39m(handle, ioargs\u001b[38;5;241m.\u001b[39mmode)\n",
      "\u001b[1;31mFileNotFoundError\u001b[0m: [Errno 2] No such file or directory: 'data-total.csv'"
     ]
    }
   ],
   "source": [
    "pd.set_option('display.max_columns', None)\n",
    "pd.set_option('display.max_rows', 100)\n",
    "\n",
    "wf_data  = pd.read_csv(\"data-total.csv\")\n",
    "wf_data.columns\n",
    "\n",
    "# rename columns\n",
    "wf_data.rename(\n",
    "    columns={\n",
    "        'Lat': 'lat', \n",
    "        'Long': 'long', \n",
    "        'Satellite': 'satellite', \n",
    "        'Time_UTC': 'time_utc', \n",
    "        'Date': 'date', \n",
    "        'Source': 'source', \n",
    "        'PROVINSI': 'provinsi',\n",
    "        'KAB_KOTA': 'kab_kota'\n",
    "        }, \n",
    "    inplace=True,\n",
    "    )\n",
    "\n",
    "# adding '-' to date column values\n",
    "wf_data.date = pd.to_datetime(wf_data.date, format=\"%Y%m%d\")\n",
    "wf_data.date = wf_data.date.astype('string')\n",
    "\n",
    "# All provinces in sumatera\n",
    "sumatera_provinces = [\n",
    "    'SUMATERA UTARA',\n",
    "    'JAMBI',\n",
    "    'RIAU',\n",
    "    'SUMATERA BARAT',\n",
    "    'SUMATERA SELATAN',\n",
    "    'BENGKULU',\n",
    "    'LAMPUNG',\n",
    "    'ACEH',\n",
    "    ]\n",
    "\n",
    "# create filter so that only events in sumatera will be returned.\n",
    "sumatera_filter = wf_data['provinsi'].apply(lambda x: x in sumatera_provinces) \n",
    "sumatera_only = wf_data.loc[sumatera_filter]\n",
    "\n",
    "display(sumatera_only.info())\n",
    "display(sumatera_only.provinsi.unique())\n",
    "display(sumatera_only.head())"
   ]
  },
  {
   "cell_type": "code",
   "execution_count": null,
   "id": "392e46d5",
   "metadata": {
    "scrolled": false
   },
   "outputs": [],
   "source": [
    "# sort the data in based on 'date' column in ascending order\n",
    "sumatera_only = sumatera_only.sort_values(\n",
    "    by=['date'], \n",
    "    ascending=True,\n",
    "    ignore_index=True,\n",
    ")\n",
    "\n",
    "sumatera_only.head()"
   ]
  },
  {
   "cell_type": "markdown",
   "id": "4e4caeb3",
   "metadata": {},
   "source": [
    "# 3. Create All Functions for the Project and Constants"
   ]
  },
  {
   "cell_type": "code",
   "execution_count": null,
   "id": "e189c140",
   "metadata": {},
   "outputs": [],
   "source": [
    "def get_img_as_array(filepath, dictionary):\n",
    "    \"\"\"\n",
    "    :param filepath: location of the satellite bands\n",
    "    :param dictionary: information about the image bands\n",
    "    :return: dictionary containing name of the satellite bands as key and array of pixels as value  \n",
    "    \"\"\"\n",
    "    os.chdir(filepath)\n",
    "    print(filepath)\n",
    "    band_imgs = {}\n",
    "    for key, val in dictionary.items():\n",
    "        # open the .tiff file\n",
    "        if os.path.exists(filepath):\n",
    "            tiff_file = gdal.Open(key)\n",
    "            bands = key.split('_')\n",
    "            for i, band in enumerate(bands):\n",
    "                band_imgs[band] = tiff_file.GetRasterBand(i+1).ReadAsArray()\n",
    "    \n",
    "    return band_imgs"
   ]
  },
  {
   "cell_type": "code",
   "execution_count": null,
   "id": "15284488",
   "metadata": {},
   "outputs": [],
   "source": [
    "def get_class(data):\n",
    "    \"\"\"\n",
    "    :param data: array of values whether mean or median of Delta Normalized Burn Ratio (dNBR)\n",
    "    :return: an array filled with labels or classes based on their dNBR mean or median.\n",
    "    \"\"\"\n",
    "    burn_severity_class = []\n",
    "    for value in data:\n",
    "        if value <= 0.22:\n",
    "            burn_severity_class.append(0)\n",
    "        elif value <= 0.4:\n",
    "            burn_severity_class.append(1)\n",
    "        elif value > 0.4:\n",
    "            burn_severity_class.append(2)\n",
    "        else:\n",
    "            burn_severity_class.append(-1)\n",
    "            \n",
    "    return burn_severity_class"
   ]
  },
  {
   "cell_type": "code",
   "execution_count": null,
   "id": "3c017d6c",
   "metadata": {},
   "outputs": [],
   "source": [
    "def get_mean_and_median_dnbr(folder_paths_geotiff, dictionary):\n",
    "    \"\"\"\n",
    "    :param folder_paths_geotiff: an array full of folder paths which contain satellite image in GeoTIFF format\n",
    "    :param dictionary: a dictionary contain filename of bands as key and the amount of bands inside the GeoTIFF file\n",
    "    :return: return a tuple of mean of dNBR and median of dNBR\n",
    "    \"\"\"\n",
    "    mean_dnbr_arr=[]\n",
    "    median_dnbr_arr=[]\n",
    "    \n",
    "    for folder in folder_paths_geotiff:\n",
    "        img_band = get_img_as_array(ROOT+folder, dictionary)\n",
    "\n",
    "        # find mean of dnbr only value greater than or equal to 0.05\n",
    "        try:\n",
    "            temp = img_band['dnbr']\n",
    "            # Change the data that has no value to zero\n",
    "            temp = np.where(temp==None, 0, temp)\n",
    "            temp = np.where(temp>=0.05, temp, np.nan)\n",
    "        except:\n",
    "            print(sys.exc_info()[0], \"occurred.\")\n",
    "            \n",
    "        mean_dnbr_arr.append(np.nanmean(temp))\n",
    "        median_dnbr_arr.append(np.nanmedian(temp))\n",
    "        \n",
    "    return (mean_dnbr_arr, median_dnbr_arr)"
   ]
  },
  {
   "cell_type": "code",
   "execution_count": null,
   "id": "e8a35156",
   "metadata": {},
   "outputs": [],
   "source": [
    "LANDSAT_POSTFIRE_DICT = {\n",
    "    'dnbr_b7': 2,\n",
    "    'b5_b4': 2,\n",
    "    'b3_b2': 2\n",
    "}\n",
    "\n",
    "SENTINEL_POSTFIRE_DICT = {\n",
    "    'dnbr_b12': 2,\n",
    "    'b8_b4': 2,\n",
    "    'b3_b2': 2\n",
    "}"
   ]
  },
  {
   "cell_type": "markdown",
   "id": "5c7da50b",
   "metadata": {},
   "source": [
    "# 4. Create Dataframe\n",
    "## 4.1 Landsat\n",
    "All columns inside this dataframe are:\n",
    "1. folder_paths_geotiff = use to store all folder paths for geotiff\n",
    "2. class_by_mean = use to determine the label of the image based on mean_dnbr\n",
    "3. class_by_median = use to determine the label of the image on median_dnbr\n",
    "4. mean_dnbr = stores mean of pixels in delta normalized burned ratio. \n",
    "5. median_dnbr = stores median of pixels in delta normalized burned ratio."
   ]
  },
  {
   "cell_type": "code",
   "execution_count": 17,
   "id": "1c4f167d",
   "metadata": {
    "scrolled": true
   },
   "outputs": [],
   "source": [
    "# get list of folder paths\n",
    "landsat_dictionary = {}\n",
    "landsat_dictionary['folder_paths_geotiff'] = os.listdir(LANDSAT_8_POSTFIRE_GEOTIFF_FOLDER_PATH)\n",
    "\n",
    "# sort using key = int to convert data to int first before sorting\n",
    "landsat_dictionary['folder_paths_geotiff'].sort(key=int)\n",
    "\n",
    "# add a folder path of its parent \n",
    "landsat_dictionary['folder_paths_geotiff'] = [\n",
    "    \"\\\\\" + \"\\\\\".join(LANDSAT_8_POSTFIRE_GEOTIFF_FOLDER_PATH.split(\"\\\\\")[1:]) + \"\\\\\" + folder_name \n",
    "    for folder_name in landsat_dictionary['folder_paths_geotiff']]"
   ]
  },
  {
   "cell_type": "markdown",
   "id": "bced7064",
   "metadata": {},
   "source": [
    "## 4.1.1 Calculate Mean and Median dNBR\n",
    "Calculate the mean and median of Delta Normalized Burned Ration of each image"
   ]
  },
  {
   "cell_type": "code",
   "execution_count": 4,
   "id": "0b4e9b16",
   "metadata": {
    "scrolled": true
   },
   "outputs": [],
   "source": [
    "landsat_dictionary['mean_dnbr'], landsat_dictionary['median_dnbr'] =  get_mean_and_median_dnbr(\n",
    "    landsat_dictionary['folder_paths_geotiff'], \n",
    "    LANDSAT_POSTFIRE_DICT,\n",
    ")"
   ]
  },
  {
   "cell_type": "markdown",
   "id": "04d321c9",
   "metadata": {},
   "source": [
    "## 4.1.2 Save Landsat Dictionary as CSV File"
   ]
  },
  {
   "cell_type": "code",
   "execution_count": 21,
   "id": "defc051c",
   "metadata": {},
   "outputs": [],
   "source": [
    "# # convert to pandas DataFrame and export as .csv file\n",
    "# landsat_df = pd.DataFrame(landsat_dictionary)\n",
    "# landsat_df.to_csv(METADATA_LANDSAT_8_FILE_PATH, index=False)"
   ]
  },
  {
   "cell_type": "markdown",
   "id": "dc134eff",
   "metadata": {},
   "source": [
    "## 4.1.3 Open CSV File"
   ]
  },
  {
   "cell_type": "code",
   "execution_count": 4,
   "id": "02567092",
   "metadata": {},
   "outputs": [
    {
     "data": {
      "text/html": [
       "<div>\n",
       "<style scoped>\n",
       "    .dataframe tbody tr th:only-of-type {\n",
       "        vertical-align: middle;\n",
       "    }\n",
       "\n",
       "    .dataframe tbody tr th {\n",
       "        vertical-align: top;\n",
       "    }\n",
       "\n",
       "    .dataframe thead th {\n",
       "        text-align: right;\n",
       "    }\n",
       "</style>\n",
       "<table border=\"1\" class=\"dataframe\">\n",
       "  <thead>\n",
       "    <tr style=\"text-align: right;\">\n",
       "      <th></th>\n",
       "      <th>folder_paths_geotiff</th>\n",
       "      <th>mean_dnbr</th>\n",
       "      <th>median_dnbr</th>\n",
       "      <th>class_by_mean</th>\n",
       "      <th>class_by_median</th>\n",
       "      <th>image_condition</th>\n",
       "      <th>folder_paths_image_mask</th>\n",
       "    </tr>\n",
       "  </thead>\n",
       "  <tbody>\n",
       "    <tr>\n",
       "      <th>0</th>\n",
       "      <td>\\wildfire-sumatera-dataset\\wildfire-sumatera-g...</td>\n",
       "      <td>0.118657</td>\n",
       "      <td>0.092437</td>\n",
       "      <td>0</td>\n",
       "      <td>0</td>\n",
       "      <td>1</td>\n",
       "      <td>\\wildfire-sumatera-dataset\\wildfire-sumatera-i...</td>\n",
       "    </tr>\n",
       "    <tr>\n",
       "      <th>1</th>\n",
       "      <td>\\wildfire-sumatera-dataset\\wildfire-sumatera-g...</td>\n",
       "      <td>0.118892</td>\n",
       "      <td>0.092641</td>\n",
       "      <td>0</td>\n",
       "      <td>0</td>\n",
       "      <td>1</td>\n",
       "      <td>\\wildfire-sumatera-dataset\\wildfire-sumatera-i...</td>\n",
       "    </tr>\n",
       "    <tr>\n",
       "      <th>2</th>\n",
       "      <td>\\wildfire-sumatera-dataset\\wildfire-sumatera-g...</td>\n",
       "      <td>0.124600</td>\n",
       "      <td>0.095925</td>\n",
       "      <td>0</td>\n",
       "      <td>0</td>\n",
       "      <td>1</td>\n",
       "      <td>\\wildfire-sumatera-dataset\\wildfire-sumatera-i...</td>\n",
       "    </tr>\n",
       "    <tr>\n",
       "      <th>3</th>\n",
       "      <td>\\wildfire-sumatera-dataset\\wildfire-sumatera-g...</td>\n",
       "      <td>0.099432</td>\n",
       "      <td>0.074912</td>\n",
       "      <td>0</td>\n",
       "      <td>0</td>\n",
       "      <td>1</td>\n",
       "      <td>\\wildfire-sumatera-dataset\\wildfire-sumatera-i...</td>\n",
       "    </tr>\n",
       "    <tr>\n",
       "      <th>4</th>\n",
       "      <td>\\wildfire-sumatera-dataset\\wildfire-sumatera-g...</td>\n",
       "      <td>0.118605</td>\n",
       "      <td>0.092377</td>\n",
       "      <td>0</td>\n",
       "      <td>0</td>\n",
       "      <td>1</td>\n",
       "      <td>\\wildfire-sumatera-dataset\\wildfire-sumatera-i...</td>\n",
       "    </tr>\n",
       "  </tbody>\n",
       "</table>\n",
       "</div>"
      ],
      "text/plain": [
       "                                folder_paths_geotiff  mean_dnbr  median_dnbr  \\\n",
       "0  \\wildfire-sumatera-dataset\\wildfire-sumatera-g...   0.118657     0.092437   \n",
       "1  \\wildfire-sumatera-dataset\\wildfire-sumatera-g...   0.118892     0.092641   \n",
       "2  \\wildfire-sumatera-dataset\\wildfire-sumatera-g...   0.124600     0.095925   \n",
       "3  \\wildfire-sumatera-dataset\\wildfire-sumatera-g...   0.099432     0.074912   \n",
       "4  \\wildfire-sumatera-dataset\\wildfire-sumatera-g...   0.118605     0.092377   \n",
       "\n",
       "   class_by_mean  class_by_median  image_condition  \\\n",
       "0              0                0                1   \n",
       "1              0                0                1   \n",
       "2              0                0                1   \n",
       "3              0                0                1   \n",
       "4              0                0                1   \n",
       "\n",
       "                             folder_paths_image_mask  \n",
       "0  \\wildfire-sumatera-dataset\\wildfire-sumatera-i...  \n",
       "1  \\wildfire-sumatera-dataset\\wildfire-sumatera-i...  \n",
       "2  \\wildfire-sumatera-dataset\\wildfire-sumatera-i...  \n",
       "3  \\wildfire-sumatera-dataset\\wildfire-sumatera-i...  \n",
       "4  \\wildfire-sumatera-dataset\\wildfire-sumatera-i...  "
      ]
     },
     "execution_count": 4,
     "metadata": {},
     "output_type": "execute_result"
    }
   ],
   "source": [
    "landsat_df = pd.read_csv(METADATA_LANDSAT_8_FILE_PATH)\n",
    "landsat_df.head()"
   ]
  },
  {
   "cell_type": "markdown",
   "id": "c5f7a204",
   "metadata": {},
   "source": [
    "## 4.1.4 Classify Images Using Mean and Median dNBR\n",
    "<img src=\"../images/dNBR_classification_and_class_boundaries.jpg\" alt=\"dNBR_classification_and_class_boundaries\">\n",
    "\n",
    "1. Low severity = 0\n",
    "2. Moderate severity = 1\n",
    "3. High severity = 2"
   ]
  },
  {
   "cell_type": "code",
   "execution_count": 42,
   "id": "191887b8",
   "metadata": {},
   "outputs": [],
   "source": [
    "landsat_df[\"class_by_mean\"] = get_class(landsat_df[\"mean_dnbr\"])\n",
    "landsat_df[\"class_by_median\"] = get_class(landsat_df[\"median_dnbr\"])"
   ]
  },
  {
   "cell_type": "markdown",
   "id": "4cafb7fd",
   "metadata": {},
   "source": [
    "## 4.1.5 Countplot of Landsat-8 Burn Severity Class by Mean dNBR"
   ]
  },
  {
   "cell_type": "code",
   "execution_count": 5,
   "id": "6491f403",
   "metadata": {
    "scrolled": false
   },
   "outputs": [
    {
     "data": {
      "image/png": "[encoded data removed]",
      "text/plain": [
       "<Figure size 720x504 with 1 Axes>"
      ]
     },
     "metadata": {
      "needs_background": "light"
     },
     "output_type": "display_data"
    }
   ],
   "source": [
    "plt.figure(figsize=(10,7))\n",
    "plt.title(\"Countplot of Landsat-8 Burn Severity Class by Mean dNBR\")\n",
    "ax = sns.countplot(x='class_by_mean', data=landsat_df)\n",
    "for p in ax.patches:\n",
    "    ax.annotate('{:.2f}%'.format(p.get_height()/len(landsat_df)*100), (p.get_x()+0.35, p.get_height()+50))\n",
    "plt.show()"
   ]
  },
  {
   "cell_type": "markdown",
   "id": "2e2a5153",
   "metadata": {},
   "source": [
    "## 4.1.6 Countplot of Landsat-8 Burn Severity Class by Median dNBR"
   ]
  },
  {
   "cell_type": "code",
   "execution_count": 6,
   "id": "c017570b",
   "metadata": {
    "scrolled": false
   },
   "outputs": [
    {
     "data": {
      "image/png": "[encoded data removed]",
      "text/plain": [
       "<Figure size 720x504 with 1 Axes>"
      ]
     },
     "metadata": {
      "needs_background": "light"
     },
     "output_type": "display_data"
    }
   ],
   "source": [
    "plt.figure(figsize=(10,7))\n",
    "plt.title(\"Countplot of Landsat-8 Burn Severity Class by Median dNBR\")\n",
    "ax = sns.countplot(x='class_by_median', data=landsat_df)\n",
    "for p in ax.patches:\n",
    "    ax.annotate('{:.2f}%'.format(p.get_height()/len(landsat_df)*100), (p.get_x()+0.35, p.get_height()+50))\n",
    "plt.show()"
   ]
  },
  {
   "cell_type": "markdown",
   "id": "83b956ae",
   "metadata": {},
   "source": [
    "## 4.1.7 Save Landsat Dataframe as CSV"
   ]
  },
  {
   "cell_type": "code",
   "execution_count": 47,
   "id": "b891595e",
   "metadata": {},
   "outputs": [
    {
     "data": {
      "text/html": [
       "<div>\n",
       "<style scoped>\n",
       "    .dataframe tbody tr th:only-of-type {\n",
       "        vertical-align: middle;\n",
       "    }\n",
       "\n",
       "    .dataframe tbody tr th {\n",
       "        vertical-align: top;\n",
       "    }\n",
       "\n",
       "    .dataframe thead th {\n",
       "        text-align: right;\n",
       "    }\n",
       "</style>\n",
       "<table border=\"1\" class=\"dataframe\">\n",
       "  <thead>\n",
       "    <tr style=\"text-align: right;\">\n",
       "      <th></th>\n",
       "      <th>folder_paths_geotiff</th>\n",
       "      <th>mean_dnbr</th>\n",
       "      <th>median_dnbr</th>\n",
       "      <th>class_by_mean</th>\n",
       "      <th>class_by_median</th>\n",
       "    </tr>\n",
       "  </thead>\n",
       "  <tbody>\n",
       "    <tr>\n",
       "      <th>0</th>\n",
       "      <td>\\wildfire-sumatera-dataset\\wildfire-sumatera-g...</td>\n",
       "      <td>0.118657</td>\n",
       "      <td>0.092437</td>\n",
       "      <td>0</td>\n",
       "      <td>0</td>\n",
       "    </tr>\n",
       "    <tr>\n",
       "      <th>1</th>\n",
       "      <td>\\wildfire-sumatera-dataset\\wildfire-sumatera-g...</td>\n",
       "      <td>0.118892</td>\n",
       "      <td>0.092641</td>\n",
       "      <td>0</td>\n",
       "      <td>0</td>\n",
       "    </tr>\n",
       "    <tr>\n",
       "      <th>2</th>\n",
       "      <td>\\wildfire-sumatera-dataset\\wildfire-sumatera-g...</td>\n",
       "      <td>0.124600</td>\n",
       "      <td>0.095925</td>\n",
       "      <td>0</td>\n",
       "      <td>0</td>\n",
       "    </tr>\n",
       "    <tr>\n",
       "      <th>3</th>\n",
       "      <td>\\wildfire-sumatera-dataset\\wildfire-sumatera-g...</td>\n",
       "      <td>0.099432</td>\n",
       "      <td>0.074912</td>\n",
       "      <td>0</td>\n",
       "      <td>0</td>\n",
       "    </tr>\n",
       "    <tr>\n",
       "      <th>4</th>\n",
       "      <td>\\wildfire-sumatera-dataset\\wildfire-sumatera-g...</td>\n",
       "      <td>0.118605</td>\n",
       "      <td>0.092377</td>\n",
       "      <td>0</td>\n",
       "      <td>0</td>\n",
       "    </tr>\n",
       "  </tbody>\n",
       "</table>\n",
       "</div>"
      ],
      "text/plain": [
       "                                folder_paths_geotiff  mean_dnbr  median_dnbr  \\\n",
       "0  \\wildfire-sumatera-dataset\\wildfire-sumatera-g...   0.118657     0.092437   \n",
       "1  \\wildfire-sumatera-dataset\\wildfire-sumatera-g...   0.118892     0.092641   \n",
       "2  \\wildfire-sumatera-dataset\\wildfire-sumatera-g...   0.124600     0.095925   \n",
       "3  \\wildfire-sumatera-dataset\\wildfire-sumatera-g...   0.099432     0.074912   \n",
       "4  \\wildfire-sumatera-dataset\\wildfire-sumatera-g...   0.118605     0.092377   \n",
       "\n",
       "   class_by_mean  class_by_median  \n",
       "0              0                0  \n",
       "1              0                0  \n",
       "2              0                0  \n",
       "3              0                0  \n",
       "4              0                0  "
      ]
     },
     "metadata": {},
     "output_type": "display_data"
    }
   ],
   "source": [
    "landsat_df.to_csv(METADATA_LANDSAT_8_FILE_PATH , index=False)\n",
    "landsat_df = pd.read_csv(METADATA_LANDSAT_8_FILE_PATH)\n",
    "display(landsat_df.head())"
   ]
  },
  {
   "cell_type": "markdown",
   "id": "f6cd075a",
   "metadata": {},
   "source": [
    "## 4.2 Sentinel\n",
    "All columns inside this dataframe are:\n",
    "\n",
    "1. folder_paths_geotiff = use to store all folder paths for geotiff\n",
    "2. class_by_mean = use to determine the label of the image based on mean_dnbr\n",
    "3. class_by_median = use to determine the label of the image on median_dnbr\n",
    "4. mean_dnbr = stores mean of pixels in delta normalized burned ratio.\n",
    "5. median_dnbr = stores median of pixels in delta normalized burned ratio."
   ]
  },
  {
   "cell_type": "code",
   "execution_count": 55,
   "id": "b198ddc2",
   "metadata": {
    "scrolled": true
   },
   "outputs": [],
   "source": [
    "# getting list of folder paths\n",
    "sentinel_dictionary = {}\n",
    "sentinel_dictionary['folder_paths_geotiff'] = os.listdir(SENTINEL_2_POSTFIRE_GEOTIFF_FOLDER_PATH)\n",
    "# sort using key = int to convert data to int first before sorting\n",
    "sentinel_dictionary['folder_paths_geotiff'].sort(key=int)\n",
    "\n",
    "# adding a folder path of its parent \n",
    "sentinel_dictionary['folder_paths_geotiff'] = [\n",
    "    \"\\\\\" + \"\\\\\".join(SENTINEL_2_POSTFIRE_GEOTIFF_FOLDER_PATH.split(\"\\\\\")[1:]) + \"\\\\\" + folder_name \n",
    "    for folder_name in sentinel_dictionary['folder_paths_geotiff']] "
   ]
  },
  {
   "cell_type": "markdown",
   "id": "331aeefa",
   "metadata": {},
   "source": [
    "## 4.2.1 Calculate Mean and Median dNBR\n",
    "Calculate the mean and median of Delta Normalized Burned Ration of each image"
   ]
  },
  {
   "cell_type": "code",
   "execution_count": 5,
   "id": "c55ffb74",
   "metadata": {
    "scrolled": true
   },
   "outputs": [],
   "source": [
    "sentinel_dictionary['mean_dnbr'], sentinel_dictionary['median_dnbr'] =  get_mean_and_median_dnbr(\n",
    "    sentinel_dictionary['folder_paths_geotiff'], \n",
    "    SENTINEL_POSTFIRE_DICT,\n",
    ")"
   ]
  },
  {
   "cell_type": "markdown",
   "id": "b0ef2773",
   "metadata": {},
   "source": [
    "## 4.2.2 Save Sentinel Dictionary as CSV File"
   ]
  },
  {
   "cell_type": "code",
   "execution_count": 19,
   "id": "54fde373",
   "metadata": {},
   "outputs": [],
   "source": [
    "# sentinel_df = pd.DataFrame(sentinel_dictionary)\n",
    "# sentinel_df.to_csv(METADATA_SENTINEL_2_FILE_PATH , index=False)"
   ]
  },
  {
   "cell_type": "markdown",
   "id": "4cfbfb97",
   "metadata": {},
   "source": [
    "## 4.2.3 Open CSV File"
   ]
  },
  {
   "cell_type": "code",
   "execution_count": 36,
   "id": "a343221a",
   "metadata": {},
   "outputs": [
    {
     "data": {
      "text/html": [
       "<div>\n",
       "<style scoped>\n",
       "    .dataframe tbody tr th:only-of-type {\n",
       "        vertical-align: middle;\n",
       "    }\n",
       "\n",
       "    .dataframe tbody tr th {\n",
       "        vertical-align: top;\n",
       "    }\n",
       "\n",
       "    .dataframe thead th {\n",
       "        text-align: right;\n",
       "    }\n",
       "</style>\n",
       "<table border=\"1\" class=\"dataframe\">\n",
       "  <thead>\n",
       "    <tr style=\"text-align: right;\">\n",
       "      <th></th>\n",
       "      <th>folder_paths_geotiff</th>\n",
       "      <th>mean_dnbr</th>\n",
       "      <th>median_dnbr</th>\n",
       "      <th>class_by_mean</th>\n",
       "      <th>class_by_median</th>\n",
       "    </tr>\n",
       "  </thead>\n",
       "  <tbody>\n",
       "    <tr>\n",
       "      <th>0</th>\n",
       "      <td>\\wildfire-sumatera-dataset\\wildfire-sumatera-g...</td>\n",
       "      <td>0.124348</td>\n",
       "      <td>0.098779</td>\n",
       "      <td>0</td>\n",
       "      <td>0</td>\n",
       "    </tr>\n",
       "    <tr>\n",
       "      <th>1</th>\n",
       "      <td>\\wildfire-sumatera-dataset\\wildfire-sumatera-g...</td>\n",
       "      <td>0.124229</td>\n",
       "      <td>0.098487</td>\n",
       "      <td>0</td>\n",
       "      <td>0</td>\n",
       "    </tr>\n",
       "    <tr>\n",
       "      <th>2</th>\n",
       "      <td>\\wildfire-sumatera-dataset\\wildfire-sumatera-g...</td>\n",
       "      <td>0.123137</td>\n",
       "      <td>0.096676</td>\n",
       "      <td>0</td>\n",
       "      <td>0</td>\n",
       "    </tr>\n",
       "    <tr>\n",
       "      <th>3</th>\n",
       "      <td>\\wildfire-sumatera-dataset\\wildfire-sumatera-g...</td>\n",
       "      <td>0.141992</td>\n",
       "      <td>0.104607</td>\n",
       "      <td>0</td>\n",
       "      <td>0</td>\n",
       "    </tr>\n",
       "    <tr>\n",
       "      <th>4</th>\n",
       "      <td>\\wildfire-sumatera-dataset\\wildfire-sumatera-g...</td>\n",
       "      <td>0.124485</td>\n",
       "      <td>0.098878</td>\n",
       "      <td>0</td>\n",
       "      <td>0</td>\n",
       "    </tr>\n",
       "  </tbody>\n",
       "</table>\n",
       "</div>"
      ],
      "text/plain": [
       "                                folder_paths_geotiff  mean_dnbr  median_dnbr  \\\n",
       "0  \\wildfire-sumatera-dataset\\wildfire-sumatera-g...   0.124348     0.098779   \n",
       "1  \\wildfire-sumatera-dataset\\wildfire-sumatera-g...   0.124229     0.098487   \n",
       "2  \\wildfire-sumatera-dataset\\wildfire-sumatera-g...   0.123137     0.096676   \n",
       "3  \\wildfire-sumatera-dataset\\wildfire-sumatera-g...   0.141992     0.104607   \n",
       "4  \\wildfire-sumatera-dataset\\wildfire-sumatera-g...   0.124485     0.098878   \n",
       "\n",
       "   class_by_mean  class_by_median  \n",
       "0              0                0  \n",
       "1              0                0  \n",
       "2              0                0  \n",
       "3              0                0  \n",
       "4              0                0  "
      ]
     },
     "metadata": {},
     "output_type": "display_data"
    }
   ],
   "source": [
    "sentinel_df = pd.read_csv(METADATA_SENTINEL_2_FILE_PATH)\n",
    "display(sentinel_df.head())"
   ]
  },
  {
   "cell_type": "markdown",
   "id": "784ebb01",
   "metadata": {},
   "source": [
    "### 4.2.4 Classify Burn Severity Class\n",
    "Determine class of the image based on mean of Delta Normalized Burned Ratio of each image, based on these class boundaries\n",
    "\n",
    "<p align=\"center\">\n",
    "    <img src=\"../images/dNBR_classification_and_class_boundaries.jpg\" alt=\"Burn Severity class\">\n",
    "</p>\n",
    "\n",
    "1. Low severity = 0\n",
    "2. Moderate severity = 1\n",
    "3. High severity = 2"
   ]
  },
  {
   "cell_type": "code",
   "execution_count": 1,
   "id": "c5a37e3c",
   "metadata": {},
   "outputs": [
    {
     "data": {
      "text/plain": [
       "'C:\\\\Users\\\\USER\\\\Documents\\\\GitHub\\\\sumatera-wildfire-classification\\\\data-preprocessing'"
      ]
     },
     "execution_count": 1,
     "metadata": {},
     "output_type": "execute_result"
    }
   ],
   "source": [
    "import os\n",
    "os.getcwd()"
   ]
  },
  {
   "cell_type": "code",
   "execution_count": 37,
   "id": "3db72c17",
   "metadata": {},
   "outputs": [],
   "source": [
    "sentinel_df[\"class_by_mean\"] = get_class(sentinel_df[\"mean_dnbr\"])\n",
    "sentinel_df[\"class_by_median\"] = get_class(sentinel_df[\"median_dnbr\"])"
   ]
  },
  {
   "cell_type": "markdown",
   "id": "38b77319",
   "metadata": {},
   "source": [
    "## 4.2.5 Countplot of Sentinel-2 Burn Severity Class by Mean dNBR\n"
   ]
  },
  {
   "cell_type": "code",
   "execution_count": 38,
   "id": "d9b807e9",
   "metadata": {},
   "outputs": [
    {
     "data": {
      "image/png": "[encoded data removed]",
      "text/plain": [
       "<Figure size 720x504 with 1 Axes>"
      ]
     },
     "metadata": {
      "needs_background": "light"
     },
     "output_type": "display_data"
    }
   ],
   "source": [
    "plt.figure(figsize=(10,7))\n",
    "plt.title(\"Countplot of Sentinel-2 Burn Severity Class by Mean dNBR\")\n",
    "ax = sns.countplot(x='class_by_mean', data=sentinel_df)\n",
    "for p in ax.patches:\n",
    "    ax.annotate('{:.2f}%'.format(p.get_height()/len(sentinel_df)*100), (p.get_x()+0.35, p.get_height()+50))\n",
    "plt.show()"
   ]
  },
  {
   "cell_type": "markdown",
   "id": "325f9b14",
   "metadata": {},
   "source": [
    "## 4.2.6 Countplot of Sentinel-2 Burn Severity Class by Median dNBR\n"
   ]
  },
  {
   "cell_type": "code",
   "execution_count": 39,
   "id": "a35f48f6",
   "metadata": {},
   "outputs": [
    {
     "data": {
      "image/png": "[encoded data removed]",
      "text/plain": [
       "<Figure size 720x504 with 1 Axes>"
      ]
     },
     "metadata": {
      "needs_background": "light"
     },
     "output_type": "display_data"
    }
   ],
   "source": [
    "plt.figure(figsize=(10,7))\n",
    "plt.title(\"Countplot of Sentinel-2 Burn Severity Class by Median dNBR\")\n",
    "ax = sns.countplot(x='class_by_median', data=sentinel_df)\n",
    "for p in ax.patches:\n",
    "    ax.annotate('{:.2f}%'.format(p.get_height()/len(sentinel_df)*100), (p.get_x()+0.35, p.get_height()+50))\n",
    "plt.show()"
   ]
  },
  {
   "cell_type": "markdown",
   "id": "42f8d366",
   "metadata": {},
   "source": [
    "## 4.2.7 Save Sentinel Dataframe as CSV"
   ]
  },
  {
   "cell_type": "code",
   "execution_count": 40,
   "id": "15f81189",
   "metadata": {},
   "outputs": [
    {
     "data": {
      "text/html": [
       "<div>\n",
       "<style scoped>\n",
       "    .dataframe tbody tr th:only-of-type {\n",
       "        vertical-align: middle;\n",
       "    }\n",
       "\n",
       "    .dataframe tbody tr th {\n",
       "        vertical-align: top;\n",
       "    }\n",
       "\n",
       "    .dataframe thead th {\n",
       "        text-align: right;\n",
       "    }\n",
       "</style>\n",
       "<table border=\"1\" class=\"dataframe\">\n",
       "  <thead>\n",
       "    <tr style=\"text-align: right;\">\n",
       "      <th></th>\n",
       "      <th>folder_paths_geotiff</th>\n",
       "      <th>mean_dnbr</th>\n",
       "      <th>median_dnbr</th>\n",
       "      <th>class_by_mean</th>\n",
       "      <th>class_by_median</th>\n",
       "    </tr>\n",
       "  </thead>\n",
       "  <tbody>\n",
       "    <tr>\n",
       "      <th>0</th>\n",
       "      <td>\\wildfire-sumatera-dataset\\wildfire-sumatera-g...</td>\n",
       "      <td>0.124348</td>\n",
       "      <td>0.098779</td>\n",
       "      <td>0</td>\n",
       "      <td>0</td>\n",
       "    </tr>\n",
       "    <tr>\n",
       "      <th>1</th>\n",
       "      <td>\\wildfire-sumatera-dataset\\wildfire-sumatera-g...</td>\n",
       "      <td>0.124229</td>\n",
       "      <td>0.098487</td>\n",
       "      <td>0</td>\n",
       "      <td>0</td>\n",
       "    </tr>\n",
       "    <tr>\n",
       "      <th>2</th>\n",
       "      <td>\\wildfire-sumatera-dataset\\wildfire-sumatera-g...</td>\n",
       "      <td>0.123137</td>\n",
       "      <td>0.096676</td>\n",
       "      <td>0</td>\n",
       "      <td>0</td>\n",
       "    </tr>\n",
       "    <tr>\n",
       "      <th>3</th>\n",
       "      <td>\\wildfire-sumatera-dataset\\wildfire-sumatera-g...</td>\n",
       "      <td>0.141992</td>\n",
       "      <td>0.104607</td>\n",
       "      <td>0</td>\n",
       "      <td>0</td>\n",
       "    </tr>\n",
       "    <tr>\n",
       "      <th>4</th>\n",
       "      <td>\\wildfire-sumatera-dataset\\wildfire-sumatera-g...</td>\n",
       "      <td>0.124485</td>\n",
       "      <td>0.098878</td>\n",
       "      <td>0</td>\n",
       "      <td>0</td>\n",
       "    </tr>\n",
       "  </tbody>\n",
       "</table>\n",
       "</div>"
      ],
      "text/plain": [
       "                                folder_paths_geotiff  mean_dnbr  median_dnbr  \\\n",
       "0  \\wildfire-sumatera-dataset\\wildfire-sumatera-g...   0.124348     0.098779   \n",
       "1  \\wildfire-sumatera-dataset\\wildfire-sumatera-g...   0.124229     0.098487   \n",
       "2  \\wildfire-sumatera-dataset\\wildfire-sumatera-g...   0.123137     0.096676   \n",
       "3  \\wildfire-sumatera-dataset\\wildfire-sumatera-g...   0.141992     0.104607   \n",
       "4  \\wildfire-sumatera-dataset\\wildfire-sumatera-g...   0.124485     0.098878   \n",
       "\n",
       "   class_by_mean  class_by_median  \n",
       "0              0                0  \n",
       "1              0                0  \n",
       "2              0                0  \n",
       "3              0                0  \n",
       "4              0                0  "
      ]
     },
     "metadata": {},
     "output_type": "display_data"
    }
   ],
   "source": [
    "sentinel_df.to_csv(METADATA_SENTINEL_2_FILE_PATH ,index=False)\n",
    "sentinel_df = pd.read_csv(METADATA_SENTINEL_2_FILE_PATH)\n",
    "display(sentinel_df.head())"
   ]
  }
 ],
 "metadata": {
  "kernelspec": {
   "display_name": "wildfire-sumatera-classification(env)",
   "language": "python",
   "name": "wildfire-sumatera-classification"
  },
  "language_info": {
   "codemirror_mode": {
    "name": "ipython",
    "version": 3
   },
   "file_extension": ".py",
   "mimetype": "text/x-python",
   "name": "python",
   "nbconvert_exporter": "python",
   "pygments_lexer": "ipython3",
   "version": "3.8.0"
  }
 },
 "nbformat": 4,
 "nbformat_minor": 5
}
