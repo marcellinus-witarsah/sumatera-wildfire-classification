{
 "cells": [
  {
   "cell_type": "code",
   "execution_count": 1,
   "metadata": {},
   "outputs": [],
   "source": [
    "import os\n",
    "import sys\n",
    "import pandas as pd\n",
    "import numpy as np\n",
    "\n",
    "# Image Generator\n",
    "from keras.preprocessing.image import ImageDataGenerator\n",
    "\n",
    "# Plotting\n",
    "import matplotlib.pyplot as plt\n",
    "\n",
    "# Modelling CNN\n",
    "import tensorflow as tf\n",
    "from numba import cuda\n",
    "import glob "
   ]
  },
  {
   "cell_type": "code",
   "execution_count": 2,
   "metadata": {},
   "outputs": [
    {
     "name": "stdout",
     "output_type": "stream",
     "text": [
      "D:\\wildfire-sumatera-dataset already exist\n",
      "D:\\wildfire-sumatera-dataset\\wildfire-sumatera-geotiff already exist\n",
      "D:\\wildfire-sumatera-dataset\\wildfire-sumatera-jpeg already exist\n",
      "D:\\wildfire-sumatera-dataset\\wildfire-sumatera-geotiff\\sentinel-2 already exist\n",
      "D:\\wildfire-sumatera-dataset\\wildfire-sumatera-geotiff\\landsat-8 already exist\n",
      "D:\\wildfire-sumatera-dataset\\wildfire-sumatera-jpeg\\sentinel-2 already exist\n",
      "D:\\wildfire-sumatera-dataset\\wildfire-sumatera-jpeg\\landsat-8 already exist\n",
      "D:\\wildfire-sumatera-dataset\\wildfire-sumatera-geotiff\\landsat-8\\prefire already exist\n",
      "D:\\wildfire-sumatera-dataset\\wildfire-sumatera-geotiff\\landsat-8\\postfire already exist\n",
      "D:\\wildfire-sumatera-dataset\\wildfire-sumatera-geotiff\\sentinel-2\\prefire already exist\n",
      "D:\\wildfire-sumatera-dataset\\wildfire-sumatera-geotiff\\sentinel-2\\postfire already exist\n"
     ]
    }
   ],
   "source": [
    "# folder path or file path constants that will be used in this project\n",
    "\n",
    "# Root Directory\n",
    "D_DIR = \"D:\"\n",
    "F_DIR = \"F:\"\n",
    "\n",
    "\n",
    "# Folder inside D:\\\\wildfire-sumatera-dataset\n",
    "WILDFIRE_SUMATERA_DATASET_FOLDER_PATH = f\"{D_DIR}\\\\wildfire-sumatera-dataset\"\n",
    "\n",
    "\n",
    "# Folders and metadatas inside D:\\\\wildfire-sumatera-dataset\n",
    "WILDFIRE_SUMATERA_GEOTIFF_FOLDER_PATH        = f\"{WILDFIRE_SUMATERA_DATASET_FOLDER_PATH}\\\\wildfire-sumatera-geotiff\"\n",
    "WILDFIRE_SUMATERA_JPEG_FOLDER_PATH           = f\"{WILDFIRE_SUMATERA_DATASET_FOLDER_PATH}\\\\wildfire-sumatera-jpeg\"\n",
    "# Files (.csv) and metadatas inside D:\\\\wildfire-sumatera-dataset\n",
    "METADATA_LANDSAT_8_FILE_PATH  = f\"{WILDFIRE_SUMATERA_DATASET_FOLDER_PATH}\\\\metadata_landsat_8.csv\"\n",
    "METADATA_SENTINEL_2_FILE_PATH = f\"{WILDFIRE_SUMATERA_DATASET_FOLDER_PATH}\\\\metadata_sentinel_2.csv\"\n",
    "\n",
    "\n",
    "\n",
    "# Folders inside D:\\\\wildfire-sumatera-dataset\\\\wildfire-sumatera-geotiff\n",
    "SENTINEL_2_GEOTIFF_FOLDER_PATH = f\"{WILDFIRE_SUMATERA_GEOTIFF_FOLDER_PATH}\\\\sentinel-2\"\n",
    "LANDSAT_8_GEOTIFF_FOLDER_PATH  = f\"{WILDFIRE_SUMATERA_GEOTIFF_FOLDER_PATH}\\\\landsat-8\"\n",
    "\n",
    "\n",
    "# Folders inside D:\\\\wildfire-sumatera-dataset\\\\wildfire-sumatera-jpeg\n",
    "SENTINEL_2_JPEG_FOLDER_PATH = f\"{WILDFIRE_SUMATERA_JPEG_FOLDER_PATH}\\\\sentinel-2\"\n",
    "LANDSAT_8_JPEG_FOLDER_PATH  = f\"{WILDFIRE_SUMATERA_JPEG_FOLDER_PATH}\\\\landsat-8\"\n",
    "\n",
    "\n",
    "\n",
    "# Folders inside D:\\\\wildfire-sumatera-dataset\\\\wildfire-sumatera-geotiff\\\\landsat-8\n",
    "LANDSAT_8_PREFIRE_GEOTIFF_FOLDER_PATH  = f\"{LANDSAT_8_GEOTIFF_FOLDER_PATH}\\\\prefire\"\n",
    "LANDSAT_8_POSTFIRE_GEOTIFF_FOLDER_PATH = f\"{LANDSAT_8_GEOTIFF_FOLDER_PATH}\\\\postfire\"\n",
    "\n",
    "# Folders inside D:\\\\wildfire-sumatera-dataset\\\\wildfire-sumatera-geotiff\\\\sentinel-2\n",
    "SENTINEL_2_PREFIRE_GEOTIFF_FOLDER_PATH  = f\"{SENTINEL_2_GEOTIFF_FOLDER_PATH}\\\\prefire\"\n",
    "SENTINEL_2_POSTFIRE_GEOTIFF_FOLDER_PATH = f\"{SENTINEL_2_GEOTIFF_FOLDER_PATH}\\\\postfire\"\n",
    "\n",
    "dirs = [\n",
    "    WILDFIRE_SUMATERA_DATASET_FOLDER_PATH,\n",
    "    WILDFIRE_SUMATERA_GEOTIFF_FOLDER_PATH, \n",
    "    WILDFIRE_SUMATERA_JPEG_FOLDER_PATH,\n",
    "    \n",
    "    SENTINEL_2_GEOTIFF_FOLDER_PATH, \n",
    "    LANDSAT_8_GEOTIFF_FOLDER_PATH,\n",
    "    SENTINEL_2_JPEG_FOLDER_PATH,\n",
    "    LANDSAT_8_JPEG_FOLDER_PATH,\n",
    "    \n",
    "    LANDSAT_8_PREFIRE_GEOTIFF_FOLDER_PATH,\n",
    "    LANDSAT_8_POSTFIRE_GEOTIFF_FOLDER_PATH,\n",
    "    SENTINEL_2_PREFIRE_GEOTIFF_FOLDER_PATH,\n",
    "    SENTINEL_2_POSTFIRE_GEOTIFF_FOLDER_PATH,\n",
    "]\n",
    "\n",
    "for dir_ in dirs:\n",
    "    if not os.path.exists(dir_):\n",
    "        os.mkdir(dir_)\n",
    "        print(f\"{dir_} has been created\")\n",
    "    else:\n",
    "        print(f\"{dir_} already exist\")"
   ]
  },
  {
   "cell_type": "markdown",
   "metadata": {},
   "source": [
    "# Constants"
   ]
  },
  {
   "cell_type": "code",
   "execution_count": 3,
   "metadata": {},
   "outputs": [],
   "source": [
    "RANDOM_STATE = 42\n",
    "BATCH_SIZE = 32\n",
    "SEED = RANDOM_STATE\n",
    "WIDTH = 256\n",
    "HEIGHT = 256\n",
    "CHANNEL = 3\n",
    "INPUT_SIZE = (WIDTH, HEIGHT, CHANNEL)"
   ]
  },
  {
   "cell_type": "markdown",
   "metadata": {},
   "source": [
    "# Prepare Data"
   ]
  },
  {
   "cell_type": "code",
   "execution_count": 4,
   "metadata": {},
   "outputs": [],
   "source": [
    "# landsat-8\n",
    "landsat_df = pd.read_csv(METADATA_LANDSAT_8_FILE_PATH)\n",
    "landsat_df_backup = landsat_df.copy()"
   ]
  },
  {
   "cell_type": "code",
   "execution_count": 5,
   "metadata": {},
   "outputs": [
    {
     "name": "stdout",
     "output_type": "stream",
     "text": [
      "<class 'pandas.core.frame.DataFrame'>\n",
      "RangeIndex: 7839 entries, 0 to 7838\n",
      "Data columns (total 6 columns):\n",
      " #   Column                Non-Null Count  Dtype  \n",
      "---  ------                --------------  -----  \n",
      " 0   folder_paths_geotiff  7839 non-null   object \n",
      " 1   mean_dnbr             7839 non-null   float64\n",
      " 2   median_dnbr           7839 non-null   float64\n",
      " 3   image_condition       7839 non-null   int64  \n",
      " 4   file_paths_jpeg       7839 non-null   object \n",
      " 5   class                 7839 non-null   int64  \n",
      "dtypes: float64(2), int64(2), object(2)\n",
      "memory usage: 367.6+ KB\n"
     ]
    }
   ],
   "source": [
    "landsat_df.info()"
   ]
  },
  {
   "cell_type": "code",
   "execution_count": 6,
   "metadata": {
    "scrolled": true
   },
   "outputs": [
    {
     "data": {
      "text/html": [
       "<div>\n",
       "<style scoped>\n",
       "    .dataframe tbody tr th:only-of-type {\n",
       "        vertical-align: middle;\n",
       "    }\n",
       "\n",
       "    .dataframe tbody tr th {\n",
       "        vertical-align: top;\n",
       "    }\n",
       "\n",
       "    .dataframe thead th {\n",
       "        text-align: right;\n",
       "    }\n",
       "</style>\n",
       "<table border=\"1\" class=\"dataframe\">\n",
       "  <thead>\n",
       "    <tr style=\"text-align: right;\">\n",
       "      <th></th>\n",
       "      <th>index</th>\n",
       "      <th>folder_paths_geotiff</th>\n",
       "      <th>mean_dnbr</th>\n",
       "      <th>median_dnbr</th>\n",
       "      <th>image_condition</th>\n",
       "      <th>file_paths_jpeg</th>\n",
       "      <th>class</th>\n",
       "    </tr>\n",
       "  </thead>\n",
       "  <tbody>\n",
       "    <tr>\n",
       "      <th>0</th>\n",
       "      <td>0</td>\n",
       "      <td>D:\\wildfire-sumatera-dataset\\wildfire-sumatera...</td>\n",
       "      <td>0.050867</td>\n",
       "      <td>0.028118</td>\n",
       "      <td>1</td>\n",
       "      <td>D:\\wildfire-sumatera-dataset\\wildfire-sumatera...</td>\n",
       "      <td>1</td>\n",
       "    </tr>\n",
       "    <tr>\n",
       "      <th>1</th>\n",
       "      <td>1</td>\n",
       "      <td>D:\\wildfire-sumatera-dataset\\wildfire-sumatera...</td>\n",
       "      <td>0.050547</td>\n",
       "      <td>0.027762</td>\n",
       "      <td>1</td>\n",
       "      <td>D:\\wildfire-sumatera-dataset\\wildfire-sumatera...</td>\n",
       "      <td>1</td>\n",
       "    </tr>\n",
       "    <tr>\n",
       "      <th>2</th>\n",
       "      <td>2</td>\n",
       "      <td>D:\\wildfire-sumatera-dataset\\wildfire-sumatera...</td>\n",
       "      <td>0.054626</td>\n",
       "      <td>0.029420</td>\n",
       "      <td>1</td>\n",
       "      <td>D:\\wildfire-sumatera-dataset\\wildfire-sumatera...</td>\n",
       "      <td>1</td>\n",
       "    </tr>\n",
       "    <tr>\n",
       "      <th>3</th>\n",
       "      <td>3</td>\n",
       "      <td>D:\\wildfire-sumatera-dataset\\wildfire-sumatera...</td>\n",
       "      <td>0.027477</td>\n",
       "      <td>0.017275</td>\n",
       "      <td>1</td>\n",
       "      <td>D:\\wildfire-sumatera-dataset\\wildfire-sumatera...</td>\n",
       "      <td>0</td>\n",
       "    </tr>\n",
       "    <tr>\n",
       "      <th>4</th>\n",
       "      <td>4</td>\n",
       "      <td>D:\\wildfire-sumatera-dataset\\wildfire-sumatera...</td>\n",
       "      <td>0.050742</td>\n",
       "      <td>0.028028</td>\n",
       "      <td>1</td>\n",
       "      <td>D:\\wildfire-sumatera-dataset\\wildfire-sumatera...</td>\n",
       "      <td>1</td>\n",
       "    </tr>\n",
       "    <tr>\n",
       "      <th>...</th>\n",
       "      <td>...</td>\n",
       "      <td>...</td>\n",
       "      <td>...</td>\n",
       "      <td>...</td>\n",
       "      <td>...</td>\n",
       "      <td>...</td>\n",
       "      <td>...</td>\n",
       "    </tr>\n",
       "    <tr>\n",
       "      <th>7831</th>\n",
       "      <td>7834</td>\n",
       "      <td>D:\\wildfire-sumatera-dataset\\wildfire-sumatera...</td>\n",
       "      <td>0.046115</td>\n",
       "      <td>0.033393</td>\n",
       "      <td>1</td>\n",
       "      <td>D:\\wildfire-sumatera-dataset\\wildfire-sumatera...</td>\n",
       "      <td>0</td>\n",
       "    </tr>\n",
       "    <tr>\n",
       "      <th>7832</th>\n",
       "      <td>7835</td>\n",
       "      <td>D:\\wildfire-sumatera-dataset\\wildfire-sumatera...</td>\n",
       "      <td>0.033706</td>\n",
       "      <td>0.023961</td>\n",
       "      <td>1</td>\n",
       "      <td>D:\\wildfire-sumatera-dataset\\wildfire-sumatera...</td>\n",
       "      <td>0</td>\n",
       "    </tr>\n",
       "    <tr>\n",
       "      <th>7833</th>\n",
       "      <td>7836</td>\n",
       "      <td>D:\\wildfire-sumatera-dataset\\wildfire-sumatera...</td>\n",
       "      <td>0.079479</td>\n",
       "      <td>0.063010</td>\n",
       "      <td>1</td>\n",
       "      <td>D:\\wildfire-sumatera-dataset\\wildfire-sumatera...</td>\n",
       "      <td>1</td>\n",
       "    </tr>\n",
       "    <tr>\n",
       "      <th>7834</th>\n",
       "      <td>7837</td>\n",
       "      <td>D:\\wildfire-sumatera-dataset\\wildfire-sumatera...</td>\n",
       "      <td>0.051759</td>\n",
       "      <td>0.036960</td>\n",
       "      <td>1</td>\n",
       "      <td>D:\\wildfire-sumatera-dataset\\wildfire-sumatera...</td>\n",
       "      <td>1</td>\n",
       "    </tr>\n",
       "    <tr>\n",
       "      <th>7835</th>\n",
       "      <td>7838</td>\n",
       "      <td>D:\\wildfire-sumatera-dataset\\wildfire-sumatera...</td>\n",
       "      <td>0.060216</td>\n",
       "      <td>0.029702</td>\n",
       "      <td>1</td>\n",
       "      <td>D:\\wildfire-sumatera-dataset\\wildfire-sumatera...</td>\n",
       "      <td>1</td>\n",
       "    </tr>\n",
       "  </tbody>\n",
       "</table>\n",
       "<p>7836 rows × 7 columns</p>\n",
       "</div>"
      ],
      "text/plain": [
       "      index                               folder_paths_geotiff  mean_dnbr  \\\n",
       "0         0  D:\\wildfire-sumatera-dataset\\wildfire-sumatera...   0.050867   \n",
       "1         1  D:\\wildfire-sumatera-dataset\\wildfire-sumatera...   0.050547   \n",
       "2         2  D:\\wildfire-sumatera-dataset\\wildfire-sumatera...   0.054626   \n",
       "3         3  D:\\wildfire-sumatera-dataset\\wildfire-sumatera...   0.027477   \n",
       "4         4  D:\\wildfire-sumatera-dataset\\wildfire-sumatera...   0.050742   \n",
       "...     ...                                                ...        ...   \n",
       "7831   7834  D:\\wildfire-sumatera-dataset\\wildfire-sumatera...   0.046115   \n",
       "7832   7835  D:\\wildfire-sumatera-dataset\\wildfire-sumatera...   0.033706   \n",
       "7833   7836  D:\\wildfire-sumatera-dataset\\wildfire-sumatera...   0.079479   \n",
       "7834   7837  D:\\wildfire-sumatera-dataset\\wildfire-sumatera...   0.051759   \n",
       "7835   7838  D:\\wildfire-sumatera-dataset\\wildfire-sumatera...   0.060216   \n",
       "\n",
       "      median_dnbr  image_condition  \\\n",
       "0        0.028118                1   \n",
       "1        0.027762                1   \n",
       "2        0.029420                1   \n",
       "3        0.017275                1   \n",
       "4        0.028028                1   \n",
       "...           ...              ...   \n",
       "7831     0.033393                1   \n",
       "7832     0.023961                1   \n",
       "7833     0.063010                1   \n",
       "7834     0.036960                1   \n",
       "7835     0.029702                1   \n",
       "\n",
       "                                        file_paths_jpeg class  \n",
       "0     D:\\wildfire-sumatera-dataset\\wildfire-sumatera...     1  \n",
       "1     D:\\wildfire-sumatera-dataset\\wildfire-sumatera...     1  \n",
       "2     D:\\wildfire-sumatera-dataset\\wildfire-sumatera...     1  \n",
       "3     D:\\wildfire-sumatera-dataset\\wildfire-sumatera...     0  \n",
       "4     D:\\wildfire-sumatera-dataset\\wildfire-sumatera...     1  \n",
       "...                                                 ...   ...  \n",
       "7831  D:\\wildfire-sumatera-dataset\\wildfire-sumatera...     0  \n",
       "7832  D:\\wildfire-sumatera-dataset\\wildfire-sumatera...     0  \n",
       "7833  D:\\wildfire-sumatera-dataset\\wildfire-sumatera...     1  \n",
       "7834  D:\\wildfire-sumatera-dataset\\wildfire-sumatera...     1  \n",
       "7835  D:\\wildfire-sumatera-dataset\\wildfire-sumatera...     1  \n",
       "\n",
       "[7836 rows x 7 columns]"
      ]
     },
     "execution_count": 6,
     "metadata": {},
     "output_type": "execute_result"
    }
   ],
   "source": [
    "# convert column 'class' type to string\n",
    "landsat_df.loc[:, 'class'] = landsat_df.loc[:, 'class'].astype(str)\n",
    "# filter image that is in a good condition\n",
    "landsat_df = landsat_df[landsat_df['image_condition'] == 1]\n",
    "landsat_df.reset_index()"
   ]
  },
  {
   "cell_type": "code",
   "execution_count": 7,
   "metadata": {},
   "outputs": [],
   "source": [
    "# spliting data for testing and training\n",
    "from sklearn.model_selection import train_test_split\n",
    "\n",
    "# Spliting based on class\n",
    "# split between train and val_test with 20% split ratio\n",
    "x_train, x_val_test, y_train, y_val_test, = train_test_split(\n",
    "    landsat_df['file_paths_jpeg'], \n",
    "    landsat_df['class'], \n",
    "    stratify = landsat_df['class'],\n",
    "    test_size = 0.2,\n",
    "    random_state = RANDOM_STATE\n",
    ")\n",
    "\n",
    "# split val_test to val and test with 50% split ratio\n",
    "x_val, x_test, y_val, y_test = train_test_split(\n",
    "    x_val_test, \n",
    "    y_val_test, \n",
    "    stratify = y_val_test,\n",
    "    test_size = 0.5,\n",
    "    random_state = RANDOM_STATE\n",
    ")"
   ]
  },
  {
   "cell_type": "code",
   "execution_count": 8,
   "metadata": {},
   "outputs": [
    {
     "name": "stdout",
     "output_type": "stream",
     "text": [
      "train image = 6268 and label = 6268\n",
      "Class quantity in train\n"
     ]
    },
    {
     "data": {
      "text/plain": [
       "1    3911\n",
       "2    1282\n",
       "0    1075\n",
       "Name: class, dtype: int64"
      ]
     },
     "metadata": {},
     "output_type": "display_data"
    },
    {
     "name": "stdout",
     "output_type": "stream",
     "text": [
      "val image = 784 and label = 784\n",
      "Class quantity in val\n"
     ]
    },
    {
     "data": {
      "text/plain": [
       "1    489\n",
       "2    161\n",
       "0    134\n",
       "Name: class, dtype: int64"
      ]
     },
     "metadata": {},
     "output_type": "display_data"
    },
    {
     "name": "stdout",
     "output_type": "stream",
     "text": [
      "test image = 784 and label = 784\n",
      "Class quantity in test\n"
     ]
    },
    {
     "data": {
      "text/plain": [
       "1    489\n",
       "2    160\n",
       "0    135\n",
       "Name: class, dtype: int64"
      ]
     },
     "metadata": {},
     "output_type": "display_data"
    }
   ],
   "source": [
    "print(\"train image = {} and label = {}\".format(len(x_train), len(y_train)))\n",
    "print('Class quantity in train')\n",
    "display(y_train.value_counts())\n",
    "print(\"val image = {} and label = {}\".format(len(x_val), len(y_val)))\n",
    "print('Class quantity in val')\n",
    "display(y_val.value_counts())\n",
    "print(\"test image = {} and label = {}\".format(len(x_test), len(y_test)))\n",
    "print('Class quantity in test')\n",
    "display(y_test.value_counts())"
   ]
  },
  {
   "cell_type": "code",
   "execution_count": 9,
   "metadata": {},
   "outputs": [
    {
     "data": {
      "text/plain": [
       "array(['1', '0', '1', ..., '1', '2', '1'], dtype=object)"
      ]
     },
     "execution_count": 9,
     "metadata": {},
     "output_type": "execute_result"
    }
   ],
   "source": [
    "y_train.values"
   ]
  },
  {
   "cell_type": "code",
   "execution_count": 10,
   "metadata": {},
   "outputs": [],
   "source": [
    "train_dict = {\n",
    "    'file_paths_jpeg': x_train.values,\n",
    "    'class': y_train.values,\n",
    "}\n",
    "train_df = pd.DataFrame(data=train_dict)\n",
    "\n",
    "val_dict = {\n",
    "    'file_paths_jpeg': x_val.values,\n",
    "    'class': y_val.values,\n",
    "}\n",
    "val_df = pd.DataFrame(data=val_dict)\n",
    "\n",
    "test_dict = {\n",
    "    'file_paths_jpeg': x_test.values,\n",
    "    'class': y_test.values,\n",
    "}\n",
    "test_df = pd.DataFrame(data=test_dict)"
   ]
  },
  {
   "cell_type": "code",
   "execution_count": 11,
   "metadata": {},
   "outputs": [
    {
     "data": {
      "text/html": [
       "<div>\n",
       "<style scoped>\n",
       "    .dataframe tbody tr th:only-of-type {\n",
       "        vertical-align: middle;\n",
       "    }\n",
       "\n",
       "    .dataframe tbody tr th {\n",
       "        vertical-align: top;\n",
       "    }\n",
       "\n",
       "    .dataframe thead th {\n",
       "        text-align: right;\n",
       "    }\n",
       "</style>\n",
       "<table border=\"1\" class=\"dataframe\">\n",
       "  <thead>\n",
       "    <tr style=\"text-align: right;\">\n",
       "      <th></th>\n",
       "      <th>file_paths_jpeg</th>\n",
       "      <th>class</th>\n",
       "    </tr>\n",
       "  </thead>\n",
       "  <tbody>\n",
       "    <tr>\n",
       "      <th>0</th>\n",
       "      <td>D:\\wildfire-sumatera-dataset\\wildfire-sumatera...</td>\n",
       "      <td>1</td>\n",
       "    </tr>\n",
       "    <tr>\n",
       "      <th>1</th>\n",
       "      <td>D:\\wildfire-sumatera-dataset\\wildfire-sumatera...</td>\n",
       "      <td>0</td>\n",
       "    </tr>\n",
       "    <tr>\n",
       "      <th>2</th>\n",
       "      <td>D:\\wildfire-sumatera-dataset\\wildfire-sumatera...</td>\n",
       "      <td>1</td>\n",
       "    </tr>\n",
       "    <tr>\n",
       "      <th>3</th>\n",
       "      <td>D:\\wildfire-sumatera-dataset\\wildfire-sumatera...</td>\n",
       "      <td>2</td>\n",
       "    </tr>\n",
       "    <tr>\n",
       "      <th>4</th>\n",
       "      <td>D:\\wildfire-sumatera-dataset\\wildfire-sumatera...</td>\n",
       "      <td>1</td>\n",
       "    </tr>\n",
       "  </tbody>\n",
       "</table>\n",
       "</div>"
      ],
      "text/plain": [
       "                                     file_paths_jpeg class\n",
       "0  D:\\wildfire-sumatera-dataset\\wildfire-sumatera...     1\n",
       "1  D:\\wildfire-sumatera-dataset\\wildfire-sumatera...     0\n",
       "2  D:\\wildfire-sumatera-dataset\\wildfire-sumatera...     1\n",
       "3  D:\\wildfire-sumatera-dataset\\wildfire-sumatera...     2\n",
       "4  D:\\wildfire-sumatera-dataset\\wildfire-sumatera...     1"
      ]
     },
     "metadata": {},
     "output_type": "display_data"
    },
    {
     "data": {
      "text/html": [
       "<div>\n",
       "<style scoped>\n",
       "    .dataframe tbody tr th:only-of-type {\n",
       "        vertical-align: middle;\n",
       "    }\n",
       "\n",
       "    .dataframe tbody tr th {\n",
       "        vertical-align: top;\n",
       "    }\n",
       "\n",
       "    .dataframe thead th {\n",
       "        text-align: right;\n",
       "    }\n",
       "</style>\n",
       "<table border=\"1\" class=\"dataframe\">\n",
       "  <thead>\n",
       "    <tr style=\"text-align: right;\">\n",
       "      <th></th>\n",
       "      <th>file_paths_jpeg</th>\n",
       "      <th>class</th>\n",
       "    </tr>\n",
       "  </thead>\n",
       "  <tbody>\n",
       "    <tr>\n",
       "      <th>0</th>\n",
       "      <td>D:\\wildfire-sumatera-dataset\\wildfire-sumatera...</td>\n",
       "      <td>1</td>\n",
       "    </tr>\n",
       "    <tr>\n",
       "      <th>1</th>\n",
       "      <td>D:\\wildfire-sumatera-dataset\\wildfire-sumatera...</td>\n",
       "      <td>2</td>\n",
       "    </tr>\n",
       "    <tr>\n",
       "      <th>2</th>\n",
       "      <td>D:\\wildfire-sumatera-dataset\\wildfire-sumatera...</td>\n",
       "      <td>0</td>\n",
       "    </tr>\n",
       "    <tr>\n",
       "      <th>3</th>\n",
       "      <td>D:\\wildfire-sumatera-dataset\\wildfire-sumatera...</td>\n",
       "      <td>1</td>\n",
       "    </tr>\n",
       "    <tr>\n",
       "      <th>4</th>\n",
       "      <td>D:\\wildfire-sumatera-dataset\\wildfire-sumatera...</td>\n",
       "      <td>1</td>\n",
       "    </tr>\n",
       "  </tbody>\n",
       "</table>\n",
       "</div>"
      ],
      "text/plain": [
       "                                     file_paths_jpeg class\n",
       "0  D:\\wildfire-sumatera-dataset\\wildfire-sumatera...     1\n",
       "1  D:\\wildfire-sumatera-dataset\\wildfire-sumatera...     2\n",
       "2  D:\\wildfire-sumatera-dataset\\wildfire-sumatera...     0\n",
       "3  D:\\wildfire-sumatera-dataset\\wildfire-sumatera...     1\n",
       "4  D:\\wildfire-sumatera-dataset\\wildfire-sumatera...     1"
      ]
     },
     "metadata": {},
     "output_type": "display_data"
    },
    {
     "data": {
      "text/html": [
       "<div>\n",
       "<style scoped>\n",
       "    .dataframe tbody tr th:only-of-type {\n",
       "        vertical-align: middle;\n",
       "    }\n",
       "\n",
       "    .dataframe tbody tr th {\n",
       "        vertical-align: top;\n",
       "    }\n",
       "\n",
       "    .dataframe thead th {\n",
       "        text-align: right;\n",
       "    }\n",
       "</style>\n",
       "<table border=\"1\" class=\"dataframe\">\n",
       "  <thead>\n",
       "    <tr style=\"text-align: right;\">\n",
       "      <th></th>\n",
       "      <th>file_paths_jpeg</th>\n",
       "      <th>class</th>\n",
       "    </tr>\n",
       "  </thead>\n",
       "  <tbody>\n",
       "    <tr>\n",
       "      <th>0</th>\n",
       "      <td>D:\\wildfire-sumatera-dataset\\wildfire-sumatera...</td>\n",
       "      <td>1</td>\n",
       "    </tr>\n",
       "    <tr>\n",
       "      <th>1</th>\n",
       "      <td>D:\\wildfire-sumatera-dataset\\wildfire-sumatera...</td>\n",
       "      <td>1</td>\n",
       "    </tr>\n",
       "    <tr>\n",
       "      <th>2</th>\n",
       "      <td>D:\\wildfire-sumatera-dataset\\wildfire-sumatera...</td>\n",
       "      <td>1</td>\n",
       "    </tr>\n",
       "    <tr>\n",
       "      <th>3</th>\n",
       "      <td>D:\\wildfire-sumatera-dataset\\wildfire-sumatera...</td>\n",
       "      <td>1</td>\n",
       "    </tr>\n",
       "    <tr>\n",
       "      <th>4</th>\n",
       "      <td>D:\\wildfire-sumatera-dataset\\wildfire-sumatera...</td>\n",
       "      <td>1</td>\n",
       "    </tr>\n",
       "  </tbody>\n",
       "</table>\n",
       "</div>"
      ],
      "text/plain": [
       "                                     file_paths_jpeg class\n",
       "0  D:\\wildfire-sumatera-dataset\\wildfire-sumatera...     1\n",
       "1  D:\\wildfire-sumatera-dataset\\wildfire-sumatera...     1\n",
       "2  D:\\wildfire-sumatera-dataset\\wildfire-sumatera...     1\n",
       "3  D:\\wildfire-sumatera-dataset\\wildfire-sumatera...     1\n",
       "4  D:\\wildfire-sumatera-dataset\\wildfire-sumatera...     1"
      ]
     },
     "metadata": {},
     "output_type": "display_data"
    }
   ],
   "source": [
    "display(train_df.head())\n",
    "display(val_df.head())\n",
    "display(test_df.head())"
   ]
  },
  {
   "cell_type": "markdown",
   "metadata": {},
   "source": [
    "# Create generator (Image Augmentation)"
   ]
  },
  {
   "cell_type": "code",
   "execution_count": 12,
   "metadata": {},
   "outputs": [],
   "source": [
    "train_generator = ImageDataGenerator(\n",
    "    rescale= 1./255,\n",
    "    rotation_range = 20,\n",
    "    width_shift_range = 0.2,\n",
    "    height_shift_range= 0.2,\n",
    "    shear_range= 0.2,\n",
    ")\n",
    "\n",
    "val_generator = ImageDataGenerator(\n",
    "    rescale= 1./255,\n",
    ")\n",
    "\n",
    "test_generator = ImageDataGenerator(\n",
    "    rescale= 1./255,\n",
    ")"
   ]
  },
  {
   "cell_type": "code",
   "execution_count": 13,
   "metadata": {},
   "outputs": [
    {
     "name": "stdout",
     "output_type": "stream",
     "text": [
      "Found 6268 validated image filenames belonging to 3 classes.\n",
      "Found 784 validated image filenames belonging to 3 classes.\n",
      "Found 784 validated image filenames belonging to 3 classes.\n"
     ]
    }
   ],
   "source": [
    "# Applying Generator by using data from dataframe\n",
    "train_data = train_generator.flow_from_dataframe(\n",
    "    dataframe = train_df,\n",
    "    directory = LANDSAT_8_JPEG_FOLDER_PATH,\n",
    "    x_col = 'file_paths_jpeg',\n",
    "    y_col = 'class',\n",
    "    batch_size = BATCH_SIZE,\n",
    "    target_size = (WIDTH,HEIGHT),\n",
    "    class_mode = \"categorical\",\n",
    ")\n",
    "\n",
    "validation_data = val_generator.flow_from_dataframe(\n",
    "    dataframe = val_df,\n",
    "    directory = LANDSAT_8_JPEG_FOLDER_PATH,\n",
    "    x_col = 'file_paths_jpeg',\n",
    "    y_col = 'class',\n",
    "    batch_size = BATCH_SIZE,\n",
    "    seed = SEED,\n",
    "    target_size = (WIDTH,HEIGHT),\n",
    "    class_mode = \"categorical\",\n",
    ")\n",
    "\n",
    "test_data = test_generator.flow_from_dataframe(\n",
    "    dataframe = test_df,\n",
    "    directory = LANDSAT_8_JPEG_FOLDER_PATH,\n",
    "    x_col = 'file_paths_jpeg',\n",
    "    y_col = 'class',\n",
    "    batch_size = len(test_df.index),\n",
    "    seed = SEED,\n",
    "    target_size = (WIDTH,HEIGHT),\n",
    "    class_mode = \"categorical\")"
   ]
  },
  {
   "cell_type": "markdown",
   "metadata": {},
   "source": [
    "### Create Model Prototype version 1"
   ]
  },
  {
   "cell_type": "code",
   "execution_count": 42,
   "metadata": {},
   "outputs": [],
   "source": [
    "import tensorflow as tf\n",
    "from keras.models import Sequential \n",
    "from keras.layers import Dense, Flatten, Dropout, Conv2D, MaxPooling2D, Activation\n",
    "\n",
    "\n",
    "def cnn_model(input_shape):\n",
    "    # Create Sequential model\n",
    "    model = tf.keras.Sequential()\n",
    "    \n",
    "    # Convolution 2D Layer with kernel size 3x3 (filters=32)\n",
    "    model.add(tf.keras.layers.Conv2D(\n",
    "        filters=16, \n",
    "        kernel_size=(3, 3), \n",
    "        input_shape=input_shape, \n",
    "        activation='relu',\n",
    "    ))\n",
    "    # Max Pooling layer (2D) with pool size of 2x2 (default)\n",
    "    model.add(tf.keras.layers.MaxPooling2D(pool_size=(2, 2)))\n",
    "    \n",
    "    # Convolution 2D Layer with kernel size 3x3 (filters=64)\n",
    "    model.add(tf.keras.layers.Conv2D(\n",
    "        filters=32, \n",
    "        kernel_size=(3, 3), \n",
    "        activation='relu',\n",
    "    ))\n",
    "    # Max Pooling layer (2D) with pool size of 2x2 (default)\n",
    "    model.add(tf.keras.layers.MaxPooling2D(pool_size=(2, 2)))\n",
    "    \n",
    "    # Convolution 2D Layer with kernel size 3x3 (filters=128)\n",
    "    model.add(tf.keras.layers.Conv2D(\n",
    "        filters=64, \n",
    "        kernel_size=(3, 3),\n",
    "        activation='relu',\n",
    "    ))\n",
    "    # Max Pooling layer (2D) with pool size of 2x2 (default)\n",
    "    model.add(tf.keras.layers.MaxPooling2D(pool_size=(2, 2)))\n",
    "    \n",
    "    # Flatten layer\n",
    "    model.add(tf.keras.layers.Flatten())\n",
    "    # Fully Connected Layer\n",
    "    model.add(tf.keras.layers.Dense(units=128, activation='relu'))\n",
    "    # Drop Out Layer\n",
    "    model.add(tf.keras.layers.Dropout(0.5))\n",
    "    \n",
    "    # Output model (multiclass)\n",
    "    model.add(tf.keras.layers.Dense(units=3, activation='softmax'))\n",
    "    \n",
    "    return model"
   ]
  },
  {
   "cell_type": "code",
   "execution_count": 43,
   "metadata": {
    "scrolled": true
   },
   "outputs": [
    {
     "name": "stdout",
     "output_type": "stream",
     "text": [
      "GPU is available, Device = [PhysicalDevice(name='/physical_device:GPU:0', device_type='GPU')]\n"
     ]
    }
   ],
   "source": [
    "# check if gpu is detected and ready to be used by tensorflow for neural network training process\n",
    "print(\"GPU is available, Device = {}\".format(tf.config.list_physical_devices(\"GPU\"))\n",
    "      if tf.config.list_physical_devices(\"GPU\") else \"GPU is not available\")"
   ]
  },
  {
   "cell_type": "code",
   "execution_count": 44,
   "metadata": {},
   "outputs": [],
   "source": [
    "# Reset Device and Free Memory from GPU\n",
    "from numba import cuda\n",
    "device = cuda.get_current_device()\n",
    "device.reset()"
   ]
  },
  {
   "cell_type": "code",
   "execution_count": null,
   "metadata": {
    "scrolled": true
   },
   "outputs": [],
   "source": [
    "model = cnn_model(INPUT_SIZE)\n",
    "model.summary()"
   ]
  },
  {
   "cell_type": "code",
   "execution_count": null,
   "metadata": {},
   "outputs": [],
   "source": [
    "imgs, labels = next(val_df)"
   ]
  },
  {
   "cell_type": "markdown",
   "metadata": {},
   "source": [
    "# Implement callbacks"
   ]
  },
  {
   "cell_type": "code",
   "execution_count": null,
   "metadata": {},
   "outputs": [],
   "source": [
    "index = len(glob.glob('./best_cnn_model*')) + 1\n",
    "print(index)\n",
    "callbacks_softmax = [\n",
    "    tf.keras.callbacks.EarlyStopping(monitor = 'val_loss', patience = 5, verbose = 2),\n",
    "    tf.keras.callbacks.ModelCheckpoint(\n",
    "        filepath = './best_cnn_model_{}'.format(), \n",
    "        monitor = 'val_loss', \n",
    "        save_best_only = True,\n",
    "        mode = 'min', \n",
    "        verbose = 2,\n",
    "    )\n",
    "]\n",
    "\n",
    "model.compile(\n",
    "    optimizer = tf.keras.optimizers.Adam(learning_rate=0.0001),\n",
    "    loss= tf.keras.'categorical_crossentropy',\n",
    "    metrics=['accuracy', 'precision', 'recall'],\n",
    ")"
   ]
  },
  {
   "cell_type": "code",
   "execution_count": null,
   "metadata": {},
   "outputs": [],
   "source": [
    "with tf.device('/GPU:0'):\n",
    "    history_softmax = model.fit(\n",
    "    train_data,\n",
    "    validation_data=validation_data,\n",
    "    epochs=50,\n",
    "    steps_per_epoch=train_data.samples//BATCH_SIZE,\n",
    "    validation_steps=valid_data.samples//BATCH_SIZE,\n",
    "    workers=8,\n",
    "    callbacks=callbacks_softmax) "
   ]
  }
 ],
 "metadata": {
  "kernelspec": {
   "display_name": "wildfire-sumatera-classification(env)",
   "language": "python",
   "name": "wildfire-sumatera-classification"
  },
  "language_info": {
   "codemirror_mode": {
    "name": "ipython",
    "version": 3
   },
   "file_extension": ".py",
   "mimetype": "text/x-python",
   "name": "python",
   "nbconvert_exporter": "python",
   "pygments_lexer": "ipython3",
   "version": "3.8.0"
  }
 },
 "nbformat": 4,
 "nbformat_minor": 4
}
