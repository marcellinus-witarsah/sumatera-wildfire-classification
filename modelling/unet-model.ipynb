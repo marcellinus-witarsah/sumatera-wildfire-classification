{
 "cells": [
  {
   "cell_type": "code",
   "execution_count": null,
   "id": "dac4a6a9",
   "metadata": {},
   "outputs": [],
   "source": []
  }
 ],
 "metadata": {
  "kernelspec": {
   "display_name": "wildfire-sumatera-classification(env)",
   "language": "python",
   "name": "wildfire-sumatera-classification"
  },
  "language_info": {
   "codemirror_mode": {
    "name": "ipython",
    "version": 3
   },
   "file_extension": ".py",
   "mimetype": "text/x-python",
   "name": "python",
   "nbconvert_exporter": "python",
   "pygments_lexer": "ipython3",
   "version": "3.8.0"
  }
 },
 "nbformat": 4,
 "nbformat_minor": 5
}
